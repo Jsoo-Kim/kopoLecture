{
 "cells": [
  {
   "cell_type": "code",
   "execution_count": 142,
   "id": "384303f0-28d7-4811-abd6-5f2d0eb5fd95",
   "metadata": {},
   "outputs": [
    {
     "name": "stdout",
     "output_type": "stream",
     "text": [
      "C:\\USERS\\SMT18\\DESKTOP\\김지수\\stdcode2024\\ETL_김지수\\codeset\n"
     ]
    },
    {
     "name": "stderr",
     "output_type": "stream",
     "text": [
      "C:\\Users\\SMT18\\AppData\\Local\\Programs\\Python\\Python310\\lib\\site-packages\\IPython\\core\\magics\\osm.py:417: UserWarning: This is now an optional IPython functionality, setting dhist requires you to install the `pickleshare` library.\n",
      "  self.shell.db['dhist'] = compress_dhist(dhist)[-100:]\n"
     ]
    }
   ],
   "source": [
    "# 현재 코드 작성 중인 곳으로 들어감\n",
    "%cd codeset/"
   ]
  },
  {
   "cell_type": "code",
   "execution_count": 146,
   "id": "2e816a6a-3ec1-4b04-a888-1f71bd0fcd10",
   "metadata": {},
   "outputs": [
    {
     "name": "stdout",
     "output_type": "stream",
     "text": [
      "dataset_out 폴더가 이미 존재합니다: ../dataset_out/\n",
      "kopo_product_volume_202403251329\n",
      "kopo_product_volume0_202403251329\n",
      "kopo_product_volume2_202403251329\n",
      "kopo_product_volume_out_202403251329\n"
     ]
    }
   ],
   "source": [
    "import pandas as pd\n",
    "import os\n",
    "\n",
    "# 추출할 파일들이 들어있는 폴더를 이용해 파일 리스트 생성\n",
    "targetFolder = \"../dataset/\"\n",
    "fileList = os.listdir(targetFolder) # ../dataset에 있는 파일들을 리스트에 담아줌!\n",
    "# print(fileList)\n",
    "\n",
    "\n",
    "# 이관할 데이터 넣어줄 폴더 생성\n",
    "targetDir = \"../dataset_out/\"\n",
    "\n",
    "if os.path.exists(targetDir):\n",
    "    print(f\"dataset_out 폴더가 이미 존재합니다: {targetDir}\")\n",
    "else:\n",
    "    os.makedirs(targetDir)\n",
    "    print(f\"dataset_out 폴더가 생성되었습니다: {targetDir}\")\n",
    "    \n",
    "    \n",
    "# 파일 포맷 설정\n",
    "from datetime import datetime\n",
    "now = datetime.now()\n",
    "filename_format = \"%Y%m%d%H%M\"\n",
    "formatted_datetime = now.strftime(filename_format)    \n",
    "\n",
    "\n",
    "# 파일 추출이 잘 되는지 확인 (생략 가능)\n",
    "# inData = pd.read_csv(\"../dataset/kopo_product_volume.csv\") \n",
    "# inData.head(2) # 추출한 파일의 맨 위 2개 행 읽어 옴\n",
    "\n",
    "\n",
    "# 특정 파일명을 가진 파일들을 특정 폴더에 저장\n",
    "preFix = \"kopo_product\"\n",
    "endFix = \".csv\"\n",
    "preFixLen = len(preFix)\n",
    "# print(preFixLen)\n",
    "endFixLen = len(endFix)\n",
    "# print(endFixLen)\n",
    "\n",
    "for file in fileList:\n",
    "    if (file[ : preFixLen] == preFix and file[ -endFixLen : ] == endFix):\n",
    "        filename = f\"{file[ : -endFixLen]}_{formatted_datetime}\" # 여기에서 파일 저장명 재설정\n",
    "        print(filename)\n",
    "        inData = pd.read_csv(f\"{targetFolder}{file}\") # 파일 추출\n",
    "        inData.to_csv(f\"{targetDir}{filename}_{formatted_datetime}.csv\", index=False) # 파일 저장"
   ]
  },
  {
   "cell_type": "markdown",
   "id": "4c480ab8-77ad-4bd1-9fca-b92e9a5b211b",
   "metadata": {},
   "source": [
    "### 교수님 답안 - 틀만 잡아주신 것!"
   ]
  },
  {
   "cell_type": "code",
   "execution_count": 128,
   "id": "2f6d10ea-4141-4766-9145-5fccd0ef357f",
   "metadata": {},
   "outputs": [],
   "source": [
    "# # 1. 폴더 생성\n",
    "# inFolder = \"../dataset/\"\n",
    "# outFolder = \"../dataset_out2/\"\n",
    "\n",
    "# if os.path.exists(outFolder):\n",
    "#     print(f\"dataset_out2 폴더가 이미 존재합니다: {outFolder}\")\n",
    "# else:\n",
    "#     os.makedirs(outFolder) # 여기서 폴더 생성\n",
    "#     print(f\"dataset_out2 폴더가 생성되었습니다: {outFolder}\")\n"
   ]
  },
  {
   "cell_type": "code",
   "execution_count": 129,
   "id": "5fe674b5-c5cc-47b0-9af9-2e948d8df4dc",
   "metadata": {},
   "outputs": [],
   "source": [
    "# import pandas as pd\n",
    "# import os\n",
    "\n",
    "# # 추출할 파일들이 들어있는 폴더를 이용해 파일 리스트 생성\n",
    "# fileList = os.listdir(inFolder)\n",
    "# # print(inFolder + fileList[0])\n",
    "\n",
    "# keyWord = \"kopo_product\"\n",
    "# keyWordLen = len(keyWord)"
   ]
  },
  {
   "cell_type": "code",
   "execution_count": 130,
   "id": "dbb23f7f-3abd-4a38-9048-2ab0c11d5734",
   "metadata": {},
   "outputs": [],
   "source": [
    "# # \".csv\"로 끝나야 한다는 조건도 추가되어야 함! 미완성 코드\n",
    "# for i in range(0, fileListLen):\n",
    "#     eachFile = fileList[i]\n",
    "#     print(eachFile)\n",
    "    \n",
    "#     if eachFile[:keyWordLen] == keyWord:\n",
    "#         # 데이터 불러오기\n",
    "#         indata = pd.read_csv(inFolder + eachFile) # 폴더 경로가 포함된 파일명이 들어가야 함\n",
    "#         # 데이터 저장하기\n",
    "#         indata.to_csv(outFolder + eachFile)\n",
    "#     else:\n",
    "#         pass"
   ]
  }
 ],
 "metadata": {
  "kernelspec": {
   "display_name": "Python 3 (ipykernel)",
   "language": "python",
   "name": "python3"
  },
  "language_info": {
   "codemirror_mode": {
    "name": "ipython",
    "version": 3
   },
   "file_extension": ".py",
   "mimetype": "text/x-python",
   "name": "python",
   "nbconvert_exporter": "python",
   "pygments_lexer": "ipython3",
   "version": "3.10.11"
  }
 },
 "nbformat": 4,
 "nbformat_minor": 5
}
