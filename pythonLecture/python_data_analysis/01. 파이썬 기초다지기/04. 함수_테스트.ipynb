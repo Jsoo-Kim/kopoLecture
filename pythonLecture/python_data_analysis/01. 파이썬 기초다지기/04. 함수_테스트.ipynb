{
 "cells": [
  {
   "cell_type": "code",
   "execution_count": 6,
   "id": "0dfed893-10c8-48ef-9686-182926f53132",
   "metadata": {},
   "outputs": [],
   "source": [
    "from hklab2024kopo import commonFunction as cf"
   ]
  },
  {
   "cell_type": "code",
   "execution_count": 9,
   "id": "f8a7f6a2-0299-4268-9a5a-9f3b85aaf521",
   "metadata": {},
   "outputs": [],
   "source": [
    "testList = [1,2,3,4,5]"
   ]
  },
  {
   "cell_type": "code",
   "execution_count": 10,
   "id": "59af226c-8bd5-4553-a8fc-79d5e2b2e90e",
   "metadata": {},
   "outputs": [
    {
     "name": "stdout",
     "output_type": "stream",
     "text": [
      "평균: 3.0\n"
     ]
    }
   ],
   "source": [
    "cf.trimmedMean(  )"
   ]
  }
 ],
 "metadata": {
  "kernelspec": {
   "display_name": "Python 3 (ipykernel)",
   "language": "python",
   "name": "python3"
  },
  "language_info": {
   "codemirror_mode": {
    "name": "ipython",
    "version": 3
   },
   "file_extension": ".py",
   "mimetype": "text/x-python",
   "name": "python",
   "nbconvert_exporter": "python",
   "pygments_lexer": "ipython3",
   "version": "3.10.11"
  }
 },
 "nbformat": 4,
 "nbformat_minor": 5
}
