{
 "cells": [
  {
   "cell_type": "code",
   "execution_count": 7,
   "id": "c80fefad-3e24-47a2-90a4-ddc1ff79f9b5",
   "metadata": {},
   "outputs": [
    {
     "name": "stdout",
     "output_type": "stream",
     "text": [
      "최댓값: 3103500\n",
      "최댓값 개수: 1\n",
      "최솟값: 0\n",
      "최솟값 개수: 256\n",
      "평균: 35248.91490376756\n"
     ]
    }
   ],
   "source": [
    "# 숙제\n",
    "\n",
    "\n",
    "import pandas as pd\n",
    "\n",
    "### 1. 데이터 불러오기\n",
    "csData = pd.read_csv(\"../../dataset/kopo_customerdata.csv\") # 'C:/Users/SMT18/Desktop/김지수/stdcode2024/Session/Session02 - 파이썬 기초 다지기' 폴더에서 상위 폴더로 두 번 이동 후 원하는 파일 접근\n",
    "amountList = csData.TOTAL_AMOUNT.tolist()\n",
    "\n",
    "\n",
    "### 2. 최솟값과 최댓값 구하고 몇개씩 있는지 구하기\n",
    "maxValue = max(amountList)\n",
    "print(f\"최댓값: {maxValue}\")\n",
    "countMax = amountList.count(maxValue)\n",
    "print(f\"최댓값 개수: {countMax}\")\n",
    "\n",
    "minValue = min(amountList)\n",
    "print(f\"최솟값: {minValue}\")\n",
    "countMin = amountList.count(minValue)\n",
    "print(f\"최솟값 개수: {countMin}\")\n",
    "\n",
    "\n",
    "### 3. 제거 - 내 코드\n",
    "# amountList.remove(maxValue) # 이렇게 해도 되지만 이 방법은 maxValue가 하나인 경우에만 통함\n",
    "\n",
    "amountListLen = len(amountList) \n",
    "amountList.sort()\n",
    "amountList = amountList[countMin : (amountListLen - countMax)]\n",
    "\n",
    "\n",
    "### 4. 평균 산출 - 내 코드\n",
    "amountListSum = sum(amountList)\n",
    "amountListLen = len(amountList) # 길이가 변했으므로 재할당\n",
    "\n",
    "answer = amountListSum / amountListLen\n",
    "print(f\"평균: {answer}\")\n",
    "\n",
    "\n",
    "# ### 평균 산출 - 교수님 코드\n",
    "# bunmo = sum(amountList) - (minValue * countMin) - (maxValue * countMax)\n",
    "# bunja = len(amountList) - countMin - countMax\n",
    "\n",
    "# trimmedAvg = bunmo / bunja\n",
    "# print(trimmedAvg)\n"
   ]
  }
 ],
 "metadata": {
  "kernelspec": {
   "display_name": "Python 3 (ipykernel)",
   "language": "python",
   "name": "python3"
  },
  "language_info": {
   "codemirror_mode": {
    "name": "ipython",
    "version": 3
   },
   "file_extension": ".py",
   "mimetype": "text/x-python",
   "name": "python",
   "nbconvert_exporter": "python",
   "pygments_lexer": "ipython3",
   "version": "3.10.11"
  }
 },
 "nbformat": 4,
 "nbformat_minor": 5
}
