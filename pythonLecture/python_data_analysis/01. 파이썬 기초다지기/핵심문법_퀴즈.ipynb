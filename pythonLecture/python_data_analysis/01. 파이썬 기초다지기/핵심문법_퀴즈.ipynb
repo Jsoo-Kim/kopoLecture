{
 "cells": [
  {
   "cell_type": "code",
   "execution_count": 8,
   "id": "4f0ddfa8-86ae-450a-a914-7770d65496bc",
   "metadata": {},
   "outputs": [],
   "source": [
    "from isoweek import Week"
   ]
  },
  {
   "cell_type": "code",
   "execution_count": null,
   "id": "870a7fa2-a96e-4bc8-9d44-5960bc24de78",
   "metadata": {},
   "outputs": [],
   "source": [
    "# def preWeek(yearWeek, minusWeek):"
   ]
  },
  {
   "cell_type": "code",
   "execution_count": 29,
   "id": "3d7694e4-f9b2-44f7-9f64-05f5dcc234e0",
   "metadata": {},
   "outputs": [],
   "source": [
    "# (week - minusWeek)가 1.양수일 때, 2.음수일 때\n",
    "# 2-1. 음수일 때 => 해당 연도 마지막 주차가 2-1-1. 53인가 2-1-2. 52인가\n",
    "# 고려사항 1) 반복문 필요한 이유: preWeek(201401, 400) 이런 경우!\n",
    "# 고려사항 2) (week - minusWeek) 가 0인 경우\n",
    "\n",
    "\n",
    "def preWeek(yearWeek, minusWeek):\n",
    "    yearWeek = str(yearWeek)\n",
    "    year = int(yearWeek[:4])\n",
    "    week = int(yearWeek[4:])\n",
    "    minusWeek = int(minusWeek)\n",
    "    remainWeek = week - minusWeek\n",
    "\n",
    "    while minusWeek > 0:\n",
    "        week -= 1\n",
    "        if week < 1:\n",
    "            year -= 1\n",
    "            week = Week.last_week_of_year(year).week  # 해당 연도의 마지막 주\n",
    "        minusWeek -= 1\n",
    "\n",
    "    formattedWeek = f\"{week:02d}\"\n",
    "    result = str(year) + formattedWeek\n",
    "    print(result)\n",
    "    \n",
    "    \n",
    "    # while minusWeek > 0:    \n",
    "    #     if (week - minusWeek) == 0:\n",
    "    #         year -= 1\n",
    "    #         minusWeek -= week\n",
    "    #         week = Week.last_week_of_year(year).week # 52주차인지 53주차인지\n",
    "    #     elif (week - minusWeek) < 0:\n",
    "    #         year -= 1\n",
    "    #         minusWeek -= (week + 1)\n",
    "    #         week = Week.last_week_of_year(year).week - 1\n",
    "    #     else:\n",
    "    #         week -= minusWeek\n",
    "    #         minusWeek = 0\n",
    "    \n",
    "    # formattedWeek = f\"{week:02d}\"\n",
    "    # result = str(year) + formattedWeek\n",
    "    # print(result)\n",
    "\n",
    "\n",
    "# print(Week.last_week_of_year(2016).week)"
   ]
  },
  {
   "cell_type": "code",
   "execution_count": 31,
   "id": "6bd4f4e6-18e6-4d38-a863-e3227a2c72c4",
   "metadata": {},
   "outputs": [
    {
     "name": "stdout",
     "output_type": "stream",
     "text": [
      "201651\n"
     ]
    }
   ],
   "source": [
    "preWeek(\"201701\", 2)"
   ]
  },
  {
   "cell_type": "code",
   "execution_count": 27,
   "id": "b5b4a816-e3af-4d9f-80f2-dc25c4cf4287",
   "metadata": {},
   "outputs": [
    {
     "name": "stdout",
     "output_type": "stream",
     "text": [
      "201710\n"
     ]
    }
   ],
   "source": [
    "preWeek(201720, 10)"
   ]
  },
  {
   "cell_type": "code",
   "execution_count": 28,
   "id": "67355575-3945-4c86-a20e-c897d25bd1ec",
   "metadata": {},
   "outputs": [
    {
     "name": "stdout",
     "output_type": "stream",
     "text": [
      "201525\n"
     ]
    }
   ],
   "source": [
    "preWeek(201720, \"100\")"
   ]
  }
 ],
 "metadata": {
  "kernelspec": {
   "display_name": "Python 3 (ipykernel)",
   "language": "python",
   "name": "python3"
  },
  "language_info": {
   "codemirror_mode": {
    "name": "ipython",
    "version": 3
   },
   "file_extension": ".py",
   "mimetype": "text/x-python",
   "name": "python",
   "nbconvert_exporter": "python",
   "pygments_lexer": "ipython3",
   "version": "3.10.11"
  }
 },
 "nbformat": 4,
 "nbformat_minor": 5
}
