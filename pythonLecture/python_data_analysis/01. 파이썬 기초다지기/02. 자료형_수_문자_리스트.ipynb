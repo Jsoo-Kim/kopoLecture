{
 "cells": [
  {
   "cell_type": "markdown",
   "metadata": {
    "id": "-G6k5SDM_-rv"
   },
   "source": [
    "# 1-2. 문자"
   ]
  },
  {
   "cell_type": "code",
   "execution_count": 2,
   "metadata": {
    "executionInfo": {
     "elapsed": 466,
     "status": "ok",
     "timestamp": 1710722791341,
     "user": {
      "displayName": "김지수/학생/행정학",
      "userId": "01335332165654095909"
     },
     "user_tz": -540
    },
    "id": "qQr6cWIHBgDA"
   },
   "outputs": [],
   "source": [
    "a = 10.2\n",
    "b = 5"
   ]
  },
  {
   "cell_type": "code",
   "execution_count": 5,
   "metadata": {
    "executionInfo": {
     "elapsed": 4,
     "status": "ok",
     "timestamp": 1710722840509,
     "user": {
      "displayName": "김지수/학생/행정학",
      "userId": "01335332165654095909"
     },
     "user_tz": -540
    },
    "id": "atWuXMFDBkl4"
   },
   "outputs": [],
   "source": [
    "c = \"10.2\"\n",
    "d = \"5\""
   ]
  },
  {
   "cell_type": "code",
   "execution_count": 7,
   "metadata": {
    "colab": {
     "base_uri": "https://localhost:8080/",
     "height": 35
    },
    "executionInfo": {
     "elapsed": 10,
     "status": "ok",
     "timestamp": 1710722852674,
     "user": {
      "displayName": "김지수/학생/행정학",
      "userId": "01335332165654095909"
     },
     "user_tz": -540
    },
    "id": "k3dtoIbuBnfI",
    "outputId": "5c282863-2351-4e91-a3af-485d49060485"
   },
   "outputs": [
    {
     "data": {
      "application/vnd.google.colaboratory.intrinsic+json": {
       "type": "string"
      },
      "text/plain": [
       "'10.25'"
      ]
     },
     "execution_count": 7,
     "metadata": {},
     "output_type": "execute_result"
    }
   ],
   "source": [
    "c+d"
   ]
  },
  {
   "cell_type": "code",
   "execution_count": 11,
   "metadata": {
    "executionInfo": {
     "elapsed": 466,
     "status": "ok",
     "timestamp": 1710723039467,
     "user": {
      "displayName": "김지수/학생/행정학",
      "userId": "01335332165654095909"
     },
     "user_tz": -540
    },
    "id": "0FAWRiP0CQIo"
   },
   "outputs": [],
   "source": [
    "### 연주차 정보가 주어졌습니다: 202410\n",
    "### 연도와 주차정보를 분리해보세요~!!"
   ]
  },
  {
   "cell_type": "code",
   "execution_count": 13,
   "metadata": {
    "executionInfo": {
     "elapsed": 5,
     "status": "ok",
     "timestamp": 1710723102010,
     "user": {
      "displayName": "김지수/학생/행정학",
      "userId": "01335332165654095909"
     },
     "user_tz": -540
    },
    "id": "p3BJE3DrCa6Y"
   },
   "outputs": [],
   "source": [
    "yearweekInfo = \"202410\""
   ]
  },
  {
   "cell_type": "code",
   "execution_count": 24,
   "metadata": {
    "colab": {
     "base_uri": "https://localhost:8080/",
     "height": 35
    },
    "executionInfo": {
     "elapsed": 451,
     "status": "ok",
     "timestamp": 1710724779304,
     "user": {
      "displayName": "김지수/학생/행정학",
      "userId": "01335332165654095909"
     },
     "user_tz": -540
    },
    "id": "XOL5kQjSCvAW",
    "outputId": "9d7d0a6a-36b0-4e70-8860-b78f5ff7c482"
   },
   "outputs": [
    {
     "data": {
      "application/vnd.google.colaboratory.intrinsic+json": {
       "type": "string"
      },
      "text/plain": [
       "'10'"
      ]
     },
     "execution_count": 24,
     "metadata": {},
     "output_type": "execute_result"
    }
   ],
   "source": [
    "yearIndex = 4\n",
    "weekIndex = 2\n",
    "yearInfo = yearweekInfo[ : yearIndex ] # 인덱스 처음(0)부터 3까지\n",
    "weekInfo = yearweekInfo[ yearIndex : ] # 인덱스 4부터 끝까지\n",
    "yearweekInfo[ -weekIndex : ] # 뒤에서 2번째부터 끝까지\n",
    "# 코드의 가독성을 높이려면 팀원들에게 맞출 것!! 양의 인덱스 음의 인덱스도 자기 마음대로 쓰지 말고 입을 맞춰서 사용!"
   ]
  },
  {
   "cell_type": "code",
   "execution_count": 21,
   "metadata": {
    "colab": {
     "base_uri": "https://localhost:8080/"
    },
    "executionInfo": {
     "elapsed": 7,
     "status": "ok",
     "timestamp": 1710723495145,
     "user": {
      "displayName": "김지수/학생/행정학",
      "userId": "01335332165654095909"
     },
     "user_tz": -540
    },
    "id": "o8QRV8n8D_Un",
    "outputId": "f0b031b2-c1fe-45e1-ff47-303a5ed8e280"
   },
   "outputs": [
    {
     "name": "stdout",
     "output_type": "stream",
     "text": [
      "플래그쉽상품\n"
     ]
    }
   ],
   "source": [
    "# 하드코딩\n",
    "balance = 150000\n",
    "if (balance < 100000):\n",
    "  print(\"국민상품\")\n",
    "else:\n",
    "  print(\"플래그쉽상품\")"
   ]
  },
  {
   "cell_type": "code",
   "execution_count": 27,
   "metadata": {
    "colab": {
     "base_uri": "https://localhost:8080/"
    },
    "executionInfo": {
     "elapsed": 447,
     "status": "ok",
     "timestamp": 1710725023144,
     "user": {
      "displayName": "김지수/학생/행정학",
      "userId": "01335332165654095909"
     },
     "user_tz": -540
    },
    "id": "WM02na0iIV-W",
    "outputId": "dc90e2fc-e31e-4a2d-d452-5b8d9ab41c20"
   },
   "outputs": [
    {
     "data": {
      "text/plain": [
       "1"
      ]
     },
     "execution_count": 27,
     "metadata": {},
     "output_type": "execute_result"
    }
   ],
   "source": [
    "# 문자열 개수 세기 (count)\n",
    "yearweekInfo = \"2024W28\"\n",
    "specificChar = \"W\"\n",
    "yearweekInfo.count( specificChar )\n",
    "# 연주차정보를 계속 전달하기로 함 => 연도 주차 사이에 \"W\" delimeter(구분자) 넣을테니 이것 기준으로~!"
   ]
  },
  {
   "cell_type": "code",
   "execution_count": 30,
   "metadata": {
    "colab": {
     "base_uri": "https://localhost:8080/"
    },
    "executionInfo": {
     "elapsed": 6,
     "status": "ok",
     "timestamp": 1710725086633,
     "user": {
      "displayName": "김지수/학생/행정학",
      "userId": "01335332165654095909"
     },
     "user_tz": -540
    },
    "id": "6VIqSpN_EO-i",
    "outputId": "a4685c27-2c93-42a1-f213-b42cd58dc00a"
   },
   "outputs": [
    {
     "data": {
      "text/plain": [
       "4"
      ]
     },
     "execution_count": 30,
     "metadata": {},
     "output_type": "execute_result"
    }
   ],
   "source": [
    "# 문자열 인덱스 찾기 (index)\n",
    "yearweekInfo.index(specificChar)"
   ]
  },
  {
   "cell_type": "code",
   "execution_count": 34,
   "metadata": {
    "colab": {
     "base_uri": "https://localhost:8080/"
    },
    "executionInfo": {
     "elapsed": 9,
     "status": "ok",
     "timestamp": 1710725927104,
     "user": {
      "displayName": "김지수/학생/행정학",
      "userId": "01335332165654095909"
     },
     "user_tz": -540
    },
    "id": "BXoOUlbUKSzt",
    "outputId": "dc1b7de0-ec7a-41d0-8b7c-b80816e1c77c"
   },
   "outputs": [
    {
     "data": {
      "text/plain": [
       "('202400000000', '28')"
      ]
     },
     "execution_count": 34,
     "metadata": {},
     "output_type": "execute_result"
    }
   ],
   "source": [
    "### 연도와 주차를 index를 활용해서 추출 => 연도가 5자리, 6자리로 바뀌어도 수정할 필요 없는 코드!!\n",
    "yearweekInfo = \"202400000000W28\" # 나중엔 이런 게 DB에 들어가서 하드코딩 부분 없이 코드만 남아있게 할 수 있음!\n",
    "specificChar = \"W\"\n",
    "specificCharIndex = yearweekInfo.index(specificChar)\n",
    "yearInfo = yearweekInfo[ : specificCharIndex ]\n",
    "weekInfo = yearweekInfo[ specificCharIndex + 1 : ]\n",
    "yearInfo, weekInfo"
   ]
  },
  {
   "cell_type": "code",
   "execution_count": 38,
   "metadata": {
    "colab": {
     "base_uri": "https://localhost:8080/",
     "height": 35
    },
    "executionInfo": {
     "elapsed": 462,
     "status": "ok",
     "timestamp": 1710726069578,
     "user": {
      "displayName": "김지수/학생/행정학",
      "userId": "01335332165654095909"
     },
     "user_tz": -540
    },
    "id": "ntiRKC9pNgty",
    "outputId": "406f5473-617e-47fc-8bef-0bd603e9ebce"
   },
   "outputs": [
    {
     "data": {
      "application/vnd.google.colaboratory.intrinsic+json": {
       "type": "string"
      },
      "text/plain": [
       "'HAITEAM'"
      ]
     },
     "execution_count": 38,
     "metadata": {},
     "output_type": "execute_result"
    }
   ],
   "source": [
    "# 대소문자 구별함수 (upper/lower)\n",
    "inputId = \"haiteam\"\n",
    "inputId.upper()"
   ]
  },
  {
   "cell_type": "code",
   "execution_count": 42,
   "metadata": {
    "colab": {
     "base_uri": "https://localhost:8080/"
    },
    "executionInfo": {
     "elapsed": 482,
     "status": "ok",
     "timestamp": 1710726255166,
     "user": {
      "displayName": "김지수/학생/행정학",
      "userId": "01335332165654095909"
     },
     "user_tz": -540
    },
    "id": "svJu1VQ0OJsi",
    "outputId": "0c361cbc-6688-4ea8-f272-596c01232bb5"
   },
   "outputs": [
    {
     "name": "stdout",
     "output_type": "stream",
     "text": [
      "로그인 성공\n"
     ]
    }
   ],
   "source": [
    "password = \"HAITEAM\"\n",
    "\n",
    "if (inputId == password.lower()):\n",
    "  print(\"로그인 성공\")\n",
    "else:\n",
    "  print(\"로그인 실패\")"
   ]
  },
  {
   "cell_type": "code",
   "execution_count": 43,
   "metadata": {
    "colab": {
     "base_uri": "https://localhost:8080/",
     "height": 35
    },
    "executionInfo": {
     "elapsed": 451,
     "status": "ok",
     "timestamp": 1710726447373,
     "user": {
      "displayName": "김지수/학생/행정학",
      "userId": "01335332165654095909"
     },
     "user_tz": -540
    },
    "id": "vImRn50BNl3S",
    "outputId": "9c4dd64b-7ff8-43c3-bcfc-d1a742e91a48"
   },
   "outputs": [
    {
     "data": {
      "application/vnd.google.colaboratory.intrinsic+json": {
       "type": "string"
      },
      "text/plain": [
       "'2024_24'"
      ]
     },
     "execution_count": 43,
     "metadata": {},
     "output_type": "execute_result"
    }
   ],
   "source": [
    "# 문자 치환 (replace)\n",
    "inYearweek = \"2024_24\"\n",
    "\n",
    "usaStd = \"_\"\n",
    "korStd = \"W\"\n",
    "\n",
    "inYearweek.replace(\"usaStd\", \"korStd\")\n"
   ]
  },
  {
   "cell_type": "code",
   "execution_count": 58,
   "metadata": {
    "colab": {
     "base_uri": "https://localhost:8080/"
    },
    "executionInfo": {
     "elapsed": 469,
     "status": "ok",
     "timestamp": 1710727836491,
     "user": {
      "displayName": "김지수/학생/행정학",
      "userId": "01335332165654095909"
     },
     "user_tz": -540
    },
    "id": "7hQ0UVnrNn3y",
    "outputId": "6fdba765-3fd4-45c8-8c22-78c867b3641a"
   },
   "outputs": [
    {
     "data": {
      "text/plain": [
       "['2024', '24']"
      ]
     },
     "execution_count": 58,
     "metadata": {},
     "output_type": "execute_result"
    }
   ],
   "source": [
    "# 문자 분리 (split)\n",
    "answer = inYearweek.split( usaStd )\n",
    "type(answer) # list는 인덱스로 접근 가능 ex) answer[0] => 2024\n",
    "answer"
   ]
  },
  {
   "cell_type": "code",
   "execution_count": 53,
   "metadata": {
    "executionInfo": {
     "elapsed": 5,
     "status": "ok",
     "timestamp": 1710727073572,
     "user": {
      "displayName": "김지수/학생/행정학",
      "userId": "01335332165654095909"
     },
     "user_tz": -540
    },
    "id": "eunI7bkfRG_4"
   },
   "outputs": [],
   "source": [
    "# 파이썬 내장함수\n",
    "len(inYearweek)\n",
    "# len처럼 . 없이 쓰면 파이썬 내장함수! . 하고 쓰면 함수\n",
    "idx = inYearweek.index\n",
    "# 여기서 index는 문자열만 가지고 있는 함수"
   ]
  },
  {
   "cell_type": "code",
   "execution_count": 55,
   "metadata": {
    "colab": {
     "base_uri": "https://localhost:8080/"
    },
    "executionInfo": {
     "elapsed": 5,
     "status": "ok",
     "timestamp": 1710727503607,
     "user": {
      "displayName": "김지수/학생/행정학",
      "userId": "01335332165654095909"
     },
     "user_tz": -540
    },
    "id": "ZMYsh2uvRzoA",
    "outputId": "ed709626-e3c1-4beb-d665-36d7f013d83b"
   },
   "outputs": [
    {
     "name": "stdout",
     "output_type": "stream",
     "text": [
      "<class 'str'>\n",
      "<class 'int'>\n"
     ]
    }
   ],
   "source": [
    "# 형 변환\n",
    "### 연주차 정보가 주어졌습니다: 202410\n",
    "### 연도와 주차정보를 분리해보세요~!!\n",
    "inData = 202410 # int는 index 로 접근 불가\n",
    "strData = str(inData)\n",
    "print(type(strData))\n",
    "print(type(inData))"
   ]
  },
  {
   "cell_type": "code",
   "execution_count": 56,
   "metadata": {
    "colab": {
     "base_uri": "https://localhost:8080/"
    },
    "executionInfo": {
     "elapsed": 4,
     "status": "ok",
     "timestamp": 1710727514230,
     "user": {
      "displayName": "김지수/학생/행정학",
      "userId": "01335332165654095909"
     },
     "user_tz": -540
    },
    "id": "OIYU0awpThiQ",
    "outputId": "b297ec72-bbf9-4522-a94c-3f05e22a5673"
   },
   "outputs": [
    {
     "data": {
      "text/plain": [
       "10"
      ]
     },
     "execution_count": 56,
     "metadata": {},
     "output_type": "execute_result"
    }
   ],
   "source": [
    "# 주차 정보\n",
    "202410 % 100"
   ]
  },
  {
   "cell_type": "code",
   "execution_count": 59,
   "metadata": {
    "colab": {
     "base_uri": "https://localhost:8080/"
    },
    "executionInfo": {
     "elapsed": 582,
     "status": "ok",
     "timestamp": 1710728365049,
     "user": {
      "displayName": "김지수/학생/행정학",
      "userId": "01335332165654095909"
     },
     "user_tz": -540
    },
    "id": "VVQYj4Q_TkMp",
    "outputId": "47faa9e2-d911-43ee-f06f-c1652604f7b5"
   },
   "outputs": [
    {
     "data": {
      "text/plain": [
       "2024"
      ]
     },
     "execution_count": 59,
     "metadata": {},
     "output_type": "execute_result"
    }
   ],
   "source": [
    "# 연도 정보\n",
    "int( 202410 / 100 ) # 100으로 나누면 2024.1인데 int로 형 변환 해서 소수점 날림"
   ]
  },
  {
   "cell_type": "code",
   "execution_count": 71,
   "metadata": {
    "colab": {
     "base_uri": "https://localhost:8080/"
    },
    "executionInfo": {
     "elapsed": 8,
     "status": "ok",
     "timestamp": 1710729001686,
     "user": {
      "displayName": "김지수/학생/행정학",
      "userId": "01335332165654095909"
     },
     "user_tz": -540
    },
    "id": "b-wEhxXaWz7N",
    "outputId": "f5639abd-ebfe-417f-c46d-c9335e890c46"
   },
   "outputs": [
    {
     "name": "stdout",
     "output_type": "stream",
     "text": [
      "SEC 20230212 250\n"
     ]
    }
   ],
   "source": [
    "### \"sec 20230212 250\" 문자열 생성 후 stock_name, date, value 이름의 변수에 저장하세요\n",
    "\n",
    "inData = \"sec 20230212 250\"\n",
    "\n",
    "### 아래와 같이 나오도록 로직 구현 (SEC는 대문자로)\n",
    "### stock_name = SEC\n",
    "### date = 202312\n",
    "### value = 250\n",
    "\n",
    "inDataArr = inData.split(\" \")\n",
    "stock_name = inDataArr[0].upper()\n",
    "date = inDataArr[1]\n",
    "value = inDataArr[2]\n",
    "print(stock_name, date, value)"
   ]
  },
  {
   "cell_type": "markdown",
   "metadata": {
    "id": "EgpiDVUWZPTV"
   },
   "source": [
    "# 1-3. 리스트"
   ]
  },
  {
   "cell_type": "code",
   "execution_count": 98,
   "metadata": {
    "colab": {
     "base_uri": "https://localhost:8080/"
    },
    "executionInfo": {
     "elapsed": 554,
     "status": "ok",
     "timestamp": 1710730068095,
     "user": {
      "displayName": "김지수/학생/행정학",
      "userId": "01335332165654095909"
     },
     "user_tz": -540
    },
    "id": "AsW1jhsnZT73",
    "outputId": "aee76fe1-b3de-4065-ee40-4df02826c879"
   },
   "outputs": [
    {
     "data": {
      "text/plain": [
       "[80, 70, 50]"
      ]
     },
     "execution_count": 98,
     "metadata": {},
     "output_type": "execute_result"
    }
   ],
   "source": [
    "scoreList = [80, 70, 50, 20]\n",
    "type(scoreList)\n",
    "len(scoreList)\n",
    "\n",
    "# 리스트에서 가장 중요한 건 인덱스!!\n",
    "\n",
    "scoreList[ 0 ]  # 80\n",
    "scoreList[ 0:3 ]  # [80, 70, 50]"
   ]
  },
  {
   "cell_type": "code",
   "execution_count": 99,
   "metadata": {
    "colab": {
     "base_uri": "https://localhost:8080/"
    },
    "executionInfo": {
     "elapsed": 6,
     "status": "ok",
     "timestamp": 1710730070426,
     "user": {
      "displayName": "김지수/학생/행정학",
      "userId": "01335332165654095909"
     },
     "user_tz": -540
    },
    "id": "MFOJyGz6aWvd",
    "outputId": "92169b10-e088-4534-e82b-ff00f6fff8cb"
   },
   "outputs": [
    {
     "name": "stdout",
     "output_type": "stream",
     "text": [
      "[80, 70, 50, 20, 30]\n",
      "[9999, 70, 50, 20, 30]\n",
      "9999\n",
      "[70, 50, 20, 30]\n"
     ]
    }
   ],
   "source": [
    "# UPDATE (INSERT, UPDATE), DELETE\n",
    "\n",
    "newScore = 30\n",
    "scoreList.append(newScore)\n",
    "print(scoreList)  # [80, 70, 50, 20, 30]\n",
    "\n",
    "scoreList[0] = 9999\n",
    "print(scoreList)  # [9999, 70, 50, 20, 30]\n",
    "\n",
    "maxValue = max(scoreList) # max는 파이썬 내장함수\n",
    "print(maxValue)  # 9999\n",
    "\n",
    "scoreList.remove(maxValue)\n",
    "print(scoreList)  # [70, 50, 20, 30]"
   ]
  },
  {
   "cell_type": "code",
   "execution_count": 100,
   "metadata": {
    "colab": {
     "base_uri": "https://localhost:8080/"
    },
    "executionInfo": {
     "elapsed": 613,
     "status": "ok",
     "timestamp": 1710730118280,
     "user": {
      "displayName": "김지수/학생/행정학",
      "userId": "01335332165654095909"
     },
     "user_tz": -540
    },
    "id": "XyyzjURubYqV",
    "outputId": "86f9ddac-32f1-4f6b-d443-be12ab459f55"
   },
   "outputs": [
    {
     "name": "stdout",
     "output_type": "stream",
     "text": [
      "4\n",
      "170\n",
      "70\n",
      "20\n"
     ]
    }
   ],
   "source": [
    "# 집합(가장 큰 값, 가장 작은 값, 합, 길이)\n",
    "\n",
    "# 리스트 길이\n",
    "scoreListLen = len( scoreList )\n",
    "print(scoreListLen)  # 4\n",
    "\n",
    "# 리스트 합\n",
    "scoreListSum = sum( scoreList )\n",
    "print(scoreListSum)  # 170\n",
    "\n",
    "# 리스트 최대 값\n",
    "scoreListMax = max( scoreList )\n",
    "print(scoreListMax)  # 70\n",
    "\n",
    "# 리스트 최소 값\n",
    "scoreListMin = min( scoreList )\n",
    "print(scoreListMin)  # 20"
   ]
  },
  {
   "cell_type": "code",
   "execution_count": 108,
   "metadata": {
    "colab": {
     "base_uri": "https://localhost:8080/"
    },
    "executionInfo": {
     "elapsed": 496,
     "status": "ok",
     "timestamp": 1710730868776,
     "user": {
      "displayName": "김지수/학생/행정학",
      "userId": "01335332165654095909"
     },
     "user_tz": -540
    },
    "id": "yd_81I7_brzs",
    "outputId": "ec2548a0-48ba-4521-e07a-d4eea729e873"
   },
   "outputs": [
    {
     "name": "stdout",
     "output_type": "stream",
     "text": [
      "최소값 50 최대값 100\n",
      "[60, 70, 80, 90]\n"
     ]
    },
    {
     "data": {
      "text/plain": [
       "75.0"
      ]
     },
     "execution_count": 108,
     "metadata": {},
     "output_type": "execute_result"
    }
   ],
   "source": [
    "### scoreList = [50,60,70,80,90,100]\n",
    "### 최소값과 최대값을 제외한 평균을 구하시오\n",
    "\n",
    "scoreList = [50,60,70,80,90,100]\n",
    "\n",
    "### Step1. 전체 데이터의 최소/최대값을 구한다\n",
    "minValue = min(scoreList)\n",
    "maxValue = max(scoreList)\n",
    "print(f\"최소값 {minValue} 최대값 {maxValue}\") # f(포맷팅)를 쓰면 {} 써서 변수값 할당 가능\n",
    "\n",
    "### Step2. 최소/최대값을 삭제한다.\n",
    "scoreList.remove(minValue)\n",
    "scoreList.remove(maxValue)\n",
    "print(scoreList)\n",
    "\n",
    "### Step3. 남은 데이터의 평균을 구한다. 평균: 합(리스트) / 길이(리스트)\n",
    "avgWithoutMaxAndMin = sum(scoreList) / len(scoreList)\n",
    "avgWithoutMaxAndMin  # 75.0"
   ]
  },
  {
   "cell_type": "code",
   "execution_count": 113,
   "metadata": {
    "colab": {
     "base_uri": "https://localhost:8080/"
    },
    "executionInfo": {
     "elapsed": 6,
     "status": "ok",
     "timestamp": 1710731266555,
     "user": {
      "displayName": "김지수/학생/행정학",
      "userId": "01335332165654095909"
     },
     "user_tz": -540
    },
    "id": "ZFRKZTZ3eScy",
    "outputId": "fdfcb46d-5a68-442e-9209-10a995576134"
   },
   "outputs": [
    {
     "data": {
      "text/plain": [
       "[100, 90, 80, 70, 60, 50]"
      ]
     },
     "execution_count": 113,
     "metadata": {},
     "output_type": "execute_result"
    }
   ],
   "source": [
    "# 리스트 정렬하기\n",
    "# sort 주의점 : cost가 비싸다!! 정말 필요할 때만 쓰자\n",
    "\n",
    "scoreList = [60,50,70,80,90,100]\n",
    "scoreList.sort(reverse=True)\n",
    "scoreList"
   ]
  },
  {
   "cell_type": "code",
   "execution_count": 115,
   "metadata": {
    "colab": {
     "base_uri": "https://localhost:8080/",
     "height": 35
    },
    "executionInfo": {
     "elapsed": 10,
     "status": "ok",
     "timestamp": 1710732120629,
     "user": {
      "displayName": "김지수/학생/행정학",
      "userId": "01335332165654095909"
     },
     "user_tz": -540
    },
    "id": "KObX9ce_h4VJ",
    "outputId": "08eaa79a-3974-4ede-bc4c-d8e1a2d7e2bc"
   },
   "outputs": [
    {
     "data": {
      "application/vnd.google.colaboratory.intrinsic+json": {
       "type": "string"
      },
      "text/plain": [
       "'apple_banana_orange'"
      ]
     },
     "execution_count": 115,
     "metadata": {},
     "output_type": "execute_result"
    }
   ],
   "source": [
    "# join\n",
    "\n",
    "myList = ['apple', 'banana', 'orange']\n",
    "# 리스트 요소를 콤마로 구분된 문자열로 변환\n",
    "resultString = '_'.join(myList)\n",
    "resultString"
   ]
  },
  {
   "cell_type": "code",
   "execution_count": 3,
   "metadata": {
    "colab": {
     "base_uri": "https://localhost:8080/"
    },
    "executionInfo": {
     "elapsed": 477,
     "status": "ok",
     "timestamp": 1710737100058,
     "user": {
      "displayName": "김지수/학생/행정학",
      "userId": "01335332165654095909"
     },
     "user_tz": -540
    },
    "id": "q7QpZh_23Jl0",
    "outputId": "97130cd2-787c-43c7-bd9a-55d54fef65ff"
   },
   "outputs": [
    {
     "data": {
      "text/plain": [
       "'C:\\\\Users\\\\SMT18\\\\Desktop\\\\김지수\\\\stdcode2024'"
      ]
     },
     "execution_count": 3,
     "metadata": {},
     "output_type": "execute_result"
    }
   ],
   "source": [
    "pwd"
   ]
  },
  {
   "cell_type": "code",
   "execution_count": 4,
   "metadata": {
    "colab": {
     "base_uri": "https://localhost:8080/"
    },
    "executionInfo": {
     "elapsed": 1308,
     "status": "ok",
     "timestamp": 1710738065168,
     "user": {
      "displayName": "김지수/학생/행정학",
      "userId": "01335332165654095909"
     },
     "user_tz": -540
    },
    "id": "x_HDEyTLlIx_",
    "outputId": "0631ec64-c7e0-4772-bbe9-47ef8b718b1c"
   },
   "outputs": [
    {
     "name": "stdout",
     "output_type": "stream",
     "text": [
      "35218.95312635417\n"
     ]
    }
   ],
   "source": [
    "# 숙제\n",
    "\n",
    "import pandas as pd\n",
    "\n",
    "### 1. 데이터 불러오기\n",
    "csData = pd.read_csv(\"dataset/kopo_customerdata.csv\") # cd로 stdcode2024까지 들어갔음\n",
    "# print(csData)\n",
    "\n",
    "### 2. TOTAL_AMOUNT 컬럼 내 최소, 최대값을 모두 삭제한 평균을 구하시오\n",
    "amountList = csData.TOTAL_AMOUNT.tolist()\n",
    "amountList.remove(max(amountList))\n",
    "amountList.remove(min(amountList))\n",
    "\n",
    "### 3. 평균 산출\n",
    "\n",
    "amountListSum = sum(amountList)\n",
    "amountListLen = len(amountList)\n",
    "answer = amountListSum / amountListLen\n",
    "print(answer)"
   ]
  }
 ],
 "metadata": {
  "colab": {
   "authorship_tag": "ABX9TyOJMQd7vPu+TuM3kR5zkvzX",
   "mount_file_id": "1d_OniDJIEPeP12GwSUAySz6iCc6g9qAa",
   "provenance": []
  },
  "kernelspec": {
   "display_name": "Python 3 (ipykernel)",
   "language": "python",
   "name": "python3"
  },
  "language_info": {
   "codemirror_mode": {
    "name": "ipython",
    "version": 3
   },
   "file_extension": ".py",
   "mimetype": "text/x-python",
   "name": "python",
   "nbconvert_exporter": "python",
   "pygments_lexer": "ipython3",
   "version": "3.10.11"
  }
 },
 "nbformat": 4,
 "nbformat_minor": 4
}
