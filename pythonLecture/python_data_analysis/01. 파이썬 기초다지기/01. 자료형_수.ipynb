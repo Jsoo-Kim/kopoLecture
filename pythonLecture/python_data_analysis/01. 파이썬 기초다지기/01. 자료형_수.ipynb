{
 "cells": [
  {
   "cell_type": "code",
   "execution_count": 4,
   "id": "686e8fc9-d805-4a3f-92a9-79b91ec63915",
   "metadata": {},
   "outputs": [
    {
     "data": {
      "text/plain": [
       "8.222000000000001"
      ]
     },
     "execution_count": 4,
     "metadata": {},
     "output_type": "execute_result"
    }
   ],
   "source": [
    "a=3\n",
    "b=5.222\n",
    "a+b"
   ]
  },
  {
   "cell_type": "markdown",
   "id": "cdaa4e49-8ffe-40f0-a37b-a712a08809ea",
   "metadata": {},
   "source": [
    "## 변수의 타입 보는 법"
   ]
  },
  {
   "cell_type": "code",
   "execution_count": 8,
   "id": "cfdf4a96-c057-467e-b30b-236594aad57f",
   "metadata": {},
   "outputs": [
    {
     "data": {
      "text/plain": [
       "float"
      ]
     },
     "execution_count": 8,
     "metadata": {},
     "output_type": "execute_result"
    }
   ],
   "source": [
    "type(a)\n",
    "type(b)"
   ]
  },
  {
   "cell_type": "markdown",
   "id": "09e19247-5934-46b1-9794-b986622da8cc",
   "metadata": {},
   "source": [
    "## 변수의 이름은 가독성이 높게 변수를 명명한다"
   ]
  },
  {
   "cell_type": "code",
   "execution_count": 9,
   "id": "847364e6-aac3-43d3-8da7-1a91c378a44b",
   "metadata": {},
   "outputs": [
    {
     "data": {
      "text/plain": [
       "800.0"
      ]
     },
     "execution_count": 9,
     "metadata": {},
     "output_type": "execute_result"
    }
   ],
   "source": [
    "# 가격 할인비율 정의\n",
    "a = 1000\n",
    "b = 0.2\n",
    "\n",
    "# 최종가격 계산\n",
    "c = a - (a * b)\n",
    "c"
   ]
  },
  {
   "cell_type": "code",
   "execution_count": 10,
   "id": "7b9582c0-555c-4cd6-b413-d2dbbff5a7f1",
   "metadata": {},
   "outputs": [
    {
     "data": {
      "text/plain": [
       "800.0"
      ]
     },
     "execution_count": 10,
     "metadata": {},
     "output_type": "execute_result"
    }
   ],
   "source": [
    "# 가격 할인비율 정의\n",
    "price = 1000\n",
    "promotion = 0.2\n",
    "\n",
    "# 최종가격 계산\n",
    "marketPrice = price - (price * promotion)\n",
    "marketPrice"
   ]
  },
  {
   "cell_type": "markdown",
   "id": "7867322e-83fd-44bd-855a-a88181552312",
   "metadata": {},
   "source": [
    "변수명 너무 길어도 안 좋음! 10~13자 이하로"
   ]
  },
  {
   "cell_type": "markdown",
   "id": "8411077a-3fe2-4c66-8805-4b1f0062f91f",
   "metadata": {},
   "source": [
    "## 1. 수"
   ]
  },
  {
   "cell_type": "code",
   "execution_count": 11,
   "id": "3bb0d94d-9df6-4998-86a0-5f1a20543a69",
   "metadata": {},
   "outputs": [],
   "source": [
    "price = 2000\n",
    "promotion = 0.2"
   ]
  },
  {
   "cell_type": "code",
   "execution_count": 12,
   "id": "162b7899-d593-4c84-91a1-46a3c52212d8",
   "metadata": {},
   "outputs": [
    {
     "data": {
      "text/plain": [
       "int"
      ]
     },
     "execution_count": 12,
     "metadata": {},
     "output_type": "execute_result"
    }
   ],
   "source": [
    "type(price)"
   ]
  },
  {
   "cell_type": "code",
   "execution_count": 13,
   "id": "39369c04-ad4b-492c-b80e-47a98100da2f",
   "metadata": {},
   "outputs": [
    {
     "data": {
      "text/plain": [
       "float"
      ]
     },
     "execution_count": 13,
     "metadata": {},
     "output_type": "execute_result"
    }
   ],
   "source": [
    "type(promotion)"
   ]
  },
  {
   "cell_type": "markdown",
   "id": "66560386-50f6-4aeb-956d-aca0a7982bfa",
   "metadata": {},
   "source": [
    "자바에서는 double도 쓰지만 파이썬에서는 float 하나로 끝남"
   ]
  },
  {
   "cell_type": "code",
   "execution_count": 16,
   "id": "a341e217-5783-4c05-b99e-addccd7c7e64",
   "metadata": {},
   "outputs": [
    {
     "data": {
      "text/plain": [
       "2000.2"
      ]
     },
     "execution_count": 16,
     "metadata": {},
     "output_type": "execute_result"
    }
   ],
   "source": [
    "plusAns = price + promotion\n",
    "plusAns"
   ]
  },
  {
   "cell_type": "markdown",
   "id": "3e82429f-782b-42e4-8809-4508271efadc",
   "metadata": {},
   "source": [
    "정수보다 실수가 표현하는 범위가 크므로 결과값이 실수로 표현됨"
   ]
  },
  {
   "cell_type": "code",
   "execution_count": 17,
   "id": "77c2bcbb-d600-48c0-acae-cdf6df3bf355",
   "metadata": {},
   "outputs": [
    {
     "data": {
      "text/plain": [
       "1999.8"
      ]
     },
     "execution_count": 17,
     "metadata": {},
     "output_type": "execute_result"
    }
   ],
   "source": [
    "minusAns = price - promotion\n",
    "minusAns"
   ]
  },
  {
   "cell_type": "code",
   "execution_count": 18,
   "id": "92d5a5c3-affa-4c4a-bd55-850a266a5b40",
   "metadata": {},
   "outputs": [
    {
     "data": {
      "text/plain": [
       "400.0"
      ]
     },
     "execution_count": 18,
     "metadata": {},
     "output_type": "execute_result"
    }
   ],
   "source": [
    "mulAns = price * promotion\n",
    "mulAns"
   ]
  },
  {
   "cell_type": "code",
   "execution_count": 19,
   "id": "74afa298-955f-439c-9917-1f21228c667a",
   "metadata": {},
   "outputs": [
    {
     "data": {
      "text/plain": [
       "10000.0"
      ]
     },
     "execution_count": 19,
     "metadata": {},
     "output_type": "execute_result"
    }
   ],
   "source": [
    "divAns = price / promotion\n",
    "divAns"
   ]
  },
  {
   "cell_type": "code",
   "execution_count": 21,
   "id": "3182e7a8-303e-47f8-9278-c258f8ab4085",
   "metadata": {},
   "outputs": [
    {
     "data": {
      "text/plain": [
       "8000000000"
      ]
     },
     "execution_count": 21,
     "metadata": {},
     "output_type": "execute_result"
    }
   ],
   "source": [
    "squareAns = price**3\n",
    "squareAns"
   ]
  },
  {
   "cell_type": "code",
   "execution_count": 22,
   "id": "d5b70f9d-09d9-440b-b1ca-8870fdd89d21",
   "metadata": {},
   "outputs": [
    {
     "data": {
      "text/plain": [
       "0.199999999999889"
      ]
     },
     "execution_count": 22,
     "metadata": {},
     "output_type": "execute_result"
    }
   ],
   "source": [
    "mod = price % promotion\n",
    "mod"
   ]
  },
  {
   "cell_type": "markdown",
   "id": "b9a94aa8-295d-4bc9-abc7-0972c2c7fcdd",
   "metadata": {},
   "source": [
    "### 나머지 연산"
   ]
  },
  {
   "cell_type": "markdown",
   "id": "3b3398c5-516d-46b3-b954-d69ff2ddef15",
   "metadata": {},
   "source": [
    "\n",
    "고객: 우리 STATE에 물건을 4주에 한 번씩 자기가 입력한 값을 넣어줘"
   ]
  },
  {
   "cell_type": "markdown",
   "id": "2f4ff570-631c-4594-8b74-a0744a4305ce",
   "metadata": {},
   "source": [
    "로직: 주차를 고객이 요청한 주 간격으로 나누었을 때 나머지가 0인 경우 화면에 입력한 값 공급. 아니면 미 공급 => 공급해야하는지 여부 판단 __<b>패턴</b>__!"
   ]
  },
  {
   "cell_type": "code",
   "execution_count": 23,
   "id": "b29d48f0-c30b-4e58-8677-086859f5fba9",
   "metadata": {},
   "outputs": [
    {
     "data": {
      "text/plain": [
       "0"
      ]
     },
     "execution_count": 23,
     "metadata": {},
     "output_type": "execute_result"
    }
   ],
   "source": [
    "weekStd = 4\n",
    "actualWeek = 20\n",
    "actualWeek % weekStd"
   ]
  },
  {
   "cell_type": "markdown",
   "id": "5dd5c6a4-5356-4e7f-b384-f5b53df5a3f0",
   "metadata": {},
   "source": [
    "### 국가 코드만 추출하세요"
   ]
  },
  {
   "cell_type": "code",
   "execution_count": 24,
   "id": "286dace3-1654-4d85-9155-6c5dcaad3dc0",
   "metadata": {},
   "outputs": [],
   "source": [
    "nationList = [\"한국\", \"A01\", \"미국\", \"A02\"]"
   ]
  },
  {
   "cell_type": "code",
   "execution_count": 29,
   "id": "4da97285-7d92-49f9-82e2-78346ed5bf36",
   "metadata": {},
   "outputs": [
    {
     "name": "stdout",
     "output_type": "stream",
     "text": [
      "A01\n",
      "A02\n"
     ]
    }
   ],
   "source": [
    "nationListLen = len(nationList)\n",
    "\n",
    "for i in range(0, nationListLen):\n",
    "    if i % 2 != 0:\n",
    "        print(nationList[i])"
   ]
  },
  {
   "cell_type": "markdown",
   "id": "29e802b9-37d9-417b-899a-3770e348b88b",
   "metadata": {},
   "source": [
    "### 과제: 현재 시간과 분을 입력값으로 받아서 두 개의 값을 더하는 연산을 수행하세요"
   ]
  },
  {
   "cell_type": "code",
   "execution_count": 30,
   "id": "9d261a4f-f82c-4382-aad7-088db17cf1d5",
   "metadata": {},
   "outputs": [
    {
     "data": {
      "text/plain": [
       "54"
      ]
     },
     "execution_count": 30,
     "metadata": {},
     "output_type": "execute_result"
    }
   ],
   "source": [
    "currentHour = 12\n",
    "currentMinute = 42\n",
    "currentHour + currentMinute"
   ]
  },
  {
   "cell_type": "code",
   "execution_count": 37,
   "id": "38e39d83-a500-4863-83ac-92f50b5a66ce",
   "metadata": {},
   "outputs": [
    {
     "data": {
      "text/plain": [
       "63"
      ]
     },
     "execution_count": 37,
     "metadata": {},
     "output_type": "execute_result"
    }
   ],
   "source": [
    "from datetime import datetime\n",
    "\n",
    "now = datetime.now()\n",
    "hour = now.hour\n",
    "minute = now.minute\n",
    "hour + minute"
   ]
  },
  {
   "cell_type": "code",
   "execution_count": 38,
   "id": "4e063e0f-b7a8-4fc8-8f4b-7f527a4e333d",
   "metadata": {},
   "outputs": [
    {
     "data": {
      "text/plain": [
       "63"
      ]
     },
     "execution_count": 38,
     "metadata": {},
     "output_type": "execute_result"
    }
   ],
   "source": [
    "import datetime\n",
    "\n",
    "currentTime = datetime.datetime.now()\n",
    "currHour = currentTime.hour\n",
    "currMinutes = currentTime.minute\n",
    "plusAnswer = currHour + currMinutes\n",
    "plusAnswer"
   ]
  },
  {
   "cell_type": "code",
   "execution_count": null,
   "id": "613c3601-8c34-407d-b5c3-bddd23272e3b",
   "metadata": {},
   "outputs": [],
   "source": []
  }
 ],
 "metadata": {
  "kernelspec": {
   "display_name": "Python 3 (ipykernel)",
   "language": "python",
   "name": "python3"
  },
  "language_info": {
   "codemirror_mode": {
    "name": "ipython",
    "version": 3
   },
   "file_extension": ".py",
   "mimetype": "text/x-python",
   "name": "python",
   "nbconvert_exporter": "python",
   "pygments_lexer": "ipython3",
   "version": "3.10.11"
  }
 },
 "nbformat": 4,
 "nbformat_minor": 5
}
