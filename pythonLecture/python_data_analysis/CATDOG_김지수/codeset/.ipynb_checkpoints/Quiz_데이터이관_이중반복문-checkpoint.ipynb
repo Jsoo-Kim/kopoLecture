{
 "cells": [
  {
   "cell_type": "code",
   "execution_count": 55,
   "id": "85c45085-5e18-450c-a20a-8887b90f43e7",
   "metadata": {},
   "outputs": [
    {
     "data": {
      "text/plain": [
       "'C:\\\\Users\\\\SMT18\\\\Desktop\\\\김지수\\\\stdcode2024\\\\CATDOG_김지수\\\\codeset'"
      ]
     },
     "execution_count": 55,
     "metadata": {},
     "output_type": "execute_result"
    }
   ],
   "source": [
    "%pwd"
   ]
  },
  {
   "cell_type": "code",
   "execution_count": 41,
   "id": "fc1481c9-715a-4a5c-96d3-7d7af9b7066c",
   "metadata": {},
   "outputs": [],
   "source": [
    "import pandas as pd\n",
    "import os\n",
    "import cv2"
   ]
  },
  {
   "cell_type": "code",
   "execution_count": 42,
   "id": "d0849bea-0e82-409f-ab1a-bf38b02b0182",
   "metadata": {},
   "outputs": [
    {
     "name": "stdout",
     "output_type": "stream",
     "text": [
      "['cat_10.jpg', 'cat_2.jpg', 'cat_3.jpg', 'cat_4.jpg', 'cat_6.jpg', 'cat_9.jpg', 'errror.txt']\n",
      "['dog_0.jpg', 'dog_3.jpg', 'dog_4.jpg', 'dog_7.jpg', 'dog_8.jpg', 'dog_9.jpg', 'error222.txt']\n",
      "[['cat_10.jpg', 'cat_2.jpg', 'cat_3.jpg', 'cat_4.jpg', 'cat_6.jpg', 'cat_9.jpg', 'errror.txt'], ['dog_0.jpg', 'dog_3.jpg', 'dog_4.jpg', 'dog_7.jpg', 'dog_8.jpg', 'dog_9.jpg', 'error222.txt']]\n"
     ]
    }
   ],
   "source": [
    "# 1. 추출할 파일들이 들어있는 폴더를 이용해 파일 리스트 생성\n",
    "\n",
    "petImagesFolder = \"../petImages/\"\n",
    "petImagesFileList = os.listdir(petImagesFolder)\n",
    "# print(petImagesFileList)\n",
    "petImagesFileListLen = len(petImagesFileList)\n",
    "# print(petImagesFileListLen)\n",
    "\n",
    "petFolderList = [ [] for _ in range(petImagesFileListLen)]\n",
    "\n",
    "for i in range(0, petImagesFileListLen):\n",
    "    petFolder = f\"{petImagesFolder}{petImagesFileList[i]}/\"\n",
    "    petFolderList[i] = (os.listdir(petFolder))\n",
    "    print(petFolderList[i])\n",
    "\n",
    "print(petFolderList)"
   ]
  },
  {
   "cell_type": "code",
   "execution_count": 65,
   "id": "54eb466e-f55c-466d-b917-816d8983eff9",
   "metadata": {},
   "outputs": [
    {
     "name": "stdout",
     "output_type": "stream",
     "text": [
      "cat_out 폴더가 이미 존재합니다: ../cat_out/\n",
      "dog_out 폴더가 이미 존재합니다: ../dog_out/\n"
     ]
    }
   ],
   "source": [
    "# 2. 이관할 데이터를 넣어줄 폴더 생성\n",
    "\n",
    "myPetDirArr = [ \"\" for _ in range(petImagesFileListLen)]\n",
    "\n",
    "for i in range(0, petImagesFileListLen):\n",
    "    myPetDirArr[i] = f\"../{petImagesFileList[i]}_out/\"\n",
    "    myPetDir = myPetDirArr[i]\n",
    "    # print(myPetDir)\n",
    "    \n",
    "    if os.path.exists(myPetDir):\n",
    "        print(f\"{petImagesFileList[i]}_out 폴더가 이미 존재합니다: {myPetDir}\")\n",
    "    else:\n",
    "        os.makedirs(myPetDir)\n",
    "        print(f\"{petImagesFileList[i]}_out 폴더가 생성되었습니다: {myPetDir}\")"
   ]
  },
  {
   "cell_type": "code",
   "execution_count": 70,
   "id": "e5ecff9f-73d1-418e-aa9c-05dc71323123",
   "metadata": {},
   "outputs": [
    {
     "name": "stdout",
     "output_type": "stream",
     "text": [
      "['cat_10.jpg', 'cat_2.jpg', 'cat_3.jpg', 'cat_4.jpg', 'cat_6.jpg', 'cat_9.jpg', 'errror.txt']\n",
      "../cat_out/\n",
      "../petImages/cat_10.jpg\n",
      "None\n",
      "../cat_out/cat_10.jpg\n",
      "../petImages/cat_2.jpg\n",
      "None\n",
      "../cat_out/cat_2.jpg\n",
      "../petImages/cat_3.jpg\n",
      "None\n",
      "../cat_out/cat_3.jpg\n",
      "../petImages/cat_4.jpg\n",
      "None\n",
      "../cat_out/cat_4.jpg\n",
      "../petImages/cat_6.jpg\n",
      "None\n",
      "../cat_out/cat_6.jpg\n",
      "../petImages/cat_9.jpg\n",
      "None\n",
      "../cat_out/cat_9.jpg\n",
      "['dog_0.jpg', 'dog_3.jpg', 'dog_4.jpg', 'dog_7.jpg', 'dog_8.jpg', 'dog_9.jpg', 'error222.txt']\n",
      "../dog_out/\n",
      "../petImages/dog_0.jpg\n",
      "None\n",
      "../dog_out/dog_0.jpg\n",
      "../petImages/dog_3.jpg\n",
      "None\n",
      "../dog_out/dog_3.jpg\n",
      "../petImages/dog_4.jpg\n",
      "None\n",
      "../dog_out/dog_4.jpg\n",
      "../petImages/dog_7.jpg\n",
      "None\n",
      "../dog_out/dog_7.jpg\n",
      "../petImages/dog_8.jpg\n",
      "None\n",
      "../dog_out/dog_8.jpg\n",
      "../petImages/dog_9.jpg\n",
      "None\n",
      "../dog_out/dog_9.jpg\n"
     ]
    }
   ],
   "source": [
    "# 3. 특정 파일 확장자를 가진 파일들을 특정 폴더에 저장\n",
    "endFix = \".jpg\"\n",
    "endFixLen = len(endFix)\n",
    "\n",
    "for i in range(0, len(petFolderList)):\n",
    "    petFolder = petFolderList[i]\n",
    "    print(petFolder)\n",
    "    myPetDir = myPetDirArr[i]\n",
    "    print(myPetDir)\n",
    "    for i in range(0, len(petFolder)):\n",
    "        petImage = petFolder[i]\n",
    "        if (petImage[ -endFixLen : ] == endFix):\n",
    "            img = cv2.imread(f\"{petImagesFolder}{petImage}\", cv2.IMREAD_COLOR) # 이미지 추출(불러오기) => 왜 img에 None이 담기지?\n",
    "            print(f\"{petImagesFolder}{petImage}\")\n",
    "            print(img)\n",
    "            # cv2.imwrite(f\"{myPetDir}{petImage}\", img) # 이미지 저장\n",
    "            print(f\"{myPetDir}{petImage}\")"
   ]
  }
 ],
 "metadata": {
  "kernelspec": {
   "display_name": "Python 3 (ipykernel)",
   "language": "python",
   "name": "python3"
  },
  "language_info": {
   "codemirror_mode": {
    "name": "ipython",
    "version": 3
   },
   "file_extension": ".py",
   "mimetype": "text/x-python",
   "name": "python",
   "nbconvert_exporter": "python",
   "pygments_lexer": "ipython3",
   "version": "3.10.11"
  }
 },
 "nbformat": 4,
 "nbformat_minor": 5
}
