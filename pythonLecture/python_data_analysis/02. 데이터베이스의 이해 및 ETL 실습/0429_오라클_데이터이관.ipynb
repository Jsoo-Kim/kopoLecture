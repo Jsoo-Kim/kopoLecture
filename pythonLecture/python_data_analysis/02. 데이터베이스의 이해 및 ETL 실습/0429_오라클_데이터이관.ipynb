{
 "cells": [
  {
   "cell_type": "code",
   "execution_count": 1,
   "id": "8f34cd9b-8d00-4223-bdff-514d4b4fb892",
   "metadata": {},
   "outputs": [],
   "source": [
    "import pandas as pd\n",
    "import os\n",
    "from sqlalchemy import create_engine, types\n",
    "\n",
    "id = \"JISOO\"\n",
    "pw = \"jisoo\"\n",
    "ip = \"192.168.110.111\"\n",
    "port =\"1521\"\n",
    "dbName = \"orcl\"\n",
    "dbSort = \"oracle\""
   ]
  },
  {
   "cell_type": "code",
   "execution_count": 2,
   "id": "ab36aecf-d4e6-4f45-89be-7638df474af7",
   "metadata": {},
   "outputs": [],
   "source": [
    "#플랫폼별로 엔진 문구 수정\n",
    "if dbSort == \"oracle\":\n",
    "    engineTxt = 'oracle+cx_oracle://{}:{}@{}:{}/{}' \n",
    "    #oracle은 !pip install cx_Oracle 모듈 설치 필요\n",
    "\n",
    "engine = create_engine( engineTxt.format(id, pw, ip, port, dbName) )"
   ]
  },
  {
   "cell_type": "code",
   "execution_count": 8,
   "id": "c675430f-7cfa-4089-90d6-cc183ac97ea1",
   "metadata": {},
   "outputs": [
    {
     "data": {
      "text/plain": [
       "아이디     object\n",
       "비번       int64\n",
       "주소      object\n",
       "카드번호    object\n",
       "dtype: object"
      ]
     },
     "execution_count": 8,
     "metadata": {},
     "output_type": "execute_result"
    }
   ],
   "source": [
    "inData = pd.read_clipboard()\n",
    "inData.dtypes"
   ]
  },
  {
   "cell_type": "code",
   "execution_count": 9,
   "id": "501203fc-9139-4261-ad81-5586c872ea2d",
   "metadata": {},
   "outputs": [
    {
     "data": {
      "text/plain": [
       "['아이디', '비번', '주소', '카드번호']"
      ]
     },
     "execution_count": 9,
     "metadata": {},
     "output_type": "execute_result"
    }
   ],
   "source": [
    "# list(inData.columns)"
   ]
  },
  {
   "cell_type": "code",
   "execution_count": 11,
   "id": "21f5d85c-62ae-46a0-ab30-94d5b042065f",
   "metadata": {},
   "outputs": [
    {
     "data": {
      "text/plain": [
       "VARCHAR(length=100)"
      ]
     },
     "execution_count": 11,
     "metadata": {},
     "output_type": "execute_result"
    }
   ],
   "source": [
    "# typeDictTmp = {}\n",
    "# typeDictTmp[\"임시\"] = types.VARCHAR(100)\n",
    "# typeDictTmp[\"임시\"]"
   ]
  },
  {
   "cell_type": "code",
   "execution_count": 12,
   "id": "77f4aa32-3d28-4bb1-a46c-f062702c510a",
   "metadata": {},
   "outputs": [
    {
     "data": {
      "text/plain": [
       "4"
      ]
     },
     "execution_count": 12,
     "metadata": {},
     "output_type": "execute_result"
    }
   ],
   "source": [
    "inDataColumns = list(inData.columns)\n",
    "tableName = \"회원정보\"\n",
    "\n",
    "# db로 저장하기\n",
    "typeDict={}\n",
    "\n",
    "for column in inDataColumns:\n",
    "    if inData[column].dtypes  == 'float':\n",
    "        typeDict[column] = types.Float\n",
    "    elif inData[column].dtypes  == 'object':\n",
    "        typeDict[column] = types.VARCHAR(100)\n",
    "        \n",
    "inData.to_sql(name=tableName, \n",
    "              if_exists=\"replace\", \n",
    "              con=engine, \n",
    "              dtype=typeDict, \n",
    "              index=False)    "
   ]
  }
 ],
 "metadata": {
  "kernelspec": {
   "display_name": "Python 3 (ipykernel)",
   "language": "python",
   "name": "python3"
  },
  "language_info": {
   "codemirror_mode": {
    "name": "ipython",
    "version": 3
   },
   "file_extension": ".py",
   "mimetype": "text/x-python",
   "name": "python",
   "nbconvert_exporter": "python",
   "pygments_lexer": "ipython3",
   "version": "3.10.11"
  }
 },
 "nbformat": 4,
 "nbformat_minor": 5
}
