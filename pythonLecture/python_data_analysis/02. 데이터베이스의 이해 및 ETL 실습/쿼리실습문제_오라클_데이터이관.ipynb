{
 "cells": [
  {
   "cell_type": "markdown",
   "id": "9ece7c9e-d4d7-42c7-b59a-f8005950f2f1",
   "metadata": {},
   "source": [
    "### <쿼리실습문제 csv => oracle 이관> - 전상문"
   ]
  },
  {
   "cell_type": "code",
   "execution_count": 2,
   "id": "96e63d2c-863c-410e-859e-d2ed86aa82a1",
   "metadata": {},
   "outputs": [],
   "source": [
    "import pandas as pd\n",
    "import os\n",
    "from sqlalchemy import create_engine, types\n",
    "\n",
    "id = \"JISOO\"\n",
    "pw = \"jisoo\"\n",
    "ip = \"192.168.110.111\"\n",
    "port =\"1521\"\n",
    "dbName = \"orcl\"\n",
    "dbSort = \"oracle\""
   ]
  },
  {
   "cell_type": "code",
   "execution_count": null,
   "id": "799b43f8-d213-4832-af60-cb22f3e082ca",
   "metadata": {},
   "outputs": [],
   "source": [
    "#플랫폼별로 엔진 문구 수정\n",
    "if dbSort == \"oracle\":\n",
    "    engineTxt = 'oracle+cx_oracle://{}:{}@{}:{}/{}' \n",
    "    #oracle은 !pip install cx_Oracle 모듈 설치 필요\n",
    "\n",
    "engine = create_engine(engineTxt.format(id,pw,ip,port,dbName))"
   ]
  },
  {
   "cell_type": "code",
   "execution_count": 6,
   "id": "63e0e33b-9917-476c-8790-7044532dac8f",
   "metadata": {},
   "outputs": [],
   "source": [
    "filepath = \"../dataset2/\"\n",
    "lists = os.listdir(filepath)"
   ]
  },
  {
   "cell_type": "code",
   "execution_count": null,
   "id": "27533bba-4b12-4554-8a84-5b9620869cab",
   "metadata": {},
   "outputs": [],
   "source": [
    "def csvToTable():\n",
    "    try:\n",
    "        for eachFile in lists:\n",
    "            inData = pd.read_csv(filepath + eachFile, encoding=\"ms949\")  # csv 파일 읽기\n",
    "            objColumns = list(inData.columns)\n",
    "            tableName = eachFile[:-4]  # eachFile에서 .csv이름 제외하고 저장\n",
    "            \n",
    "            # db로 저장하기\n",
    "            typeDict={}\n",
    "            \n",
    "            for column in objColumns:\n",
    "                if inData[column].dtypes  == 'float':\n",
    "                    typeDict[column] = types.Float\n",
    "                    #inData[column] = inData[column].fillna(0).astype(int)\n",
    "                    #typeDict[column] = types.VARCHAR(100)\n",
    "                elif inData[column].dtypes  == 'object':\n",
    "                    typeDict[column] = types.VARCHAR(100)\n",
    "            inData.to_sql(name=tableName, if_exists=\"replace\", con=engine,dtype=typeDict, index=False)    \n",
    "            \n",
    "    except Exception as e:\n",
    "        # 사원테이블 저장시 에러발생\n",
    "        print(\"에러발생\" + tableName)\n",
    "        print(inData)\n",
    "        print(typeDict)\n",
    "\n",
    "\n",
    "csvToTable()"
   ]
  }
 ],
 "metadata": {
  "kernelspec": {
   "display_name": "Python 3 (ipykernel)",
   "language": "python",
   "name": "python3"
  },
  "language_info": {
   "codemirror_mode": {
    "name": "ipython",
    "version": 3
   },
   "file_extension": ".py",
   "mimetype": "text/x-python",
   "name": "python",
   "nbconvert_exporter": "python",
   "pygments_lexer": "ipython3",
   "version": "3.10.11"
  }
 },
 "nbformat": 4,
 "nbformat_minor": 5
}
