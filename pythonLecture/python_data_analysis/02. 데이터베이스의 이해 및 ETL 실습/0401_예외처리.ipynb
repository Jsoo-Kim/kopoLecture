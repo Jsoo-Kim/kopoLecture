{
 "cells": [
  {
   "cell_type": "code",
   "execution_count": 1,
   "id": "fe45c173-fc1e-4133-8e10-136d27e2c5a2",
   "metadata": {},
   "outputs": [
    {
     "data": {
      "text/plain": [
       "'C:\\\\Users\\\\SMT18\\\\Desktop\\\\김지수\\\\stdcode2024\\\\Session03 - 데이터베이스의 이해 및 ETL 실습'"
      ]
     },
     "execution_count": 1,
     "metadata": {},
     "output_type": "execute_result"
    }
   ],
   "source": [
    "# %pwd"
   ]
  },
  {
   "cell_type": "code",
   "execution_count": 2,
   "id": "b4ee36e2-beba-4c24-af74-7dbf5f2a05d6",
   "metadata": {},
   "outputs": [],
   "source": [
    "import pandas as pd\n",
    "import os"
   ]
  },
  {
   "cell_type": "code",
   "execution_count": 17,
   "id": "45840a9b-9da7-4bfd-a111-92176dc49577",
   "metadata": {},
   "outputs": [],
   "source": [
    "targetFolder = \"../dataset/\"\n",
    "fileList = os.listdir(targetFolder) # ../dataset에 있는 파일들을 리스트에 담아줌!\n",
    "# print(fileList)\n",
    "\n",
    "# 특정 파일명을 가진 파일들을 특정 폴더에 저장\n",
    "preFix = \"kopo_product_volume\"\n",
    "outSeg = \"_out_\"\n",
    "# seq = 0  # 0부터 시작\n",
    "endFix = \".csv\""
   ]
  },
  {
   "cell_type": "code",
   "execution_count": null,
   "id": "a2981295-4d82-4e4f-89ef-2255dbc39ca2",
   "metadata": {},
   "outputs": [],
   "source": [
    "# dataSum = []\n",
    "# for i in range(0, 3):\n",
    "#     dataSum.append(pd.read_csv(f\"{targetFolder}{preFix}{str(i)}.csv\"))\n",
    "#     dataSum[i].to_csv"
   ]
  },
  {
   "cell_type": "code",
   "execution_count": 18,
   "id": "ea3ad3c0-dacd-4355-a1e3-8f248c7ffc85",
   "metadata": {},
   "outputs": [
    {
     "name": "stdout",
     "output_type": "stream",
     "text": [
      "../dataset/kopo_product_volume0.csv\n",
      "../dataset/kopo_product_volume1.csv\n",
      "[Errno 2] No such file or directory: '../dataset/kopo_product_volume1.csv'\n",
      "../dataset/kopo_product_volume2.csv\n",
      "../dataset/kopo_product_volume3.csv\n",
      "[Errno 2] No such file or directory: '../dataset/kopo_product_volume3.csv'\n",
      "../dataset/kopo_product_volume4.csv\n",
      "[Errno 2] No such file or directory: '../dataset/kopo_product_volume4.csv'\n",
      "../dataset/kopo_product_volume5.csv\n",
      "[Errno 2] No such file or directory: '../dataset/kopo_product_volume5.csv'\n",
      "../dataset/kopo_product_volume6.csv\n",
      "[Errno 2] No such file or directory: '../dataset/kopo_product_volume6.csv'\n",
      "../dataset/kopo_product_volume7.csv\n",
      "[Errno 2] No such file or directory: '../dataset/kopo_product_volume7.csv'\n",
      "../dataset/kopo_product_volume8.csv\n",
      "[Errno 2] No such file or directory: '../dataset/kopo_product_volume8.csv'\n",
      "../dataset/kopo_product_volume9.csv\n",
      "[Errno 2] No such file or directory: '../dataset/kopo_product_volume9.csv'\n"
     ]
    }
   ],
   "source": [
    "# 중간에 빠진 데이터가 있으면 에러가 남! 처리하는 방법은? => 예외처리\n",
    "for i in range(0, 10):\n",
    "    try:\n",
    "        strSeq = str(i)\n",
    "        # Step 1: 불러올 데이터 경로 선언\n",
    "        datasetFullPath = targetFolder + preFix + strSeq + endFix\n",
    "        print(datasetFullPath)\n",
    "        \n",
    "        # Step 2: 데이터를 불러온다\n",
    "        indata = pd.read_csv(datasetFullPath)\n",
    "        \n",
    "        # Step 3: 저장할 데이터 파일 경로 선언\n",
    "        dataOutFullPath = targetFolder + preFix + outSeg + strSeq + endFix\n",
    "        \n",
    "        # Step 4: 데이터 저장\n",
    "        indata.to_csv(dataOutFullPath, index=False) \n",
    "    except Exception as e:\n",
    "        print(e)"
   ]
  },
  {
   "cell_type": "code",
   "execution_count": null,
   "id": "a64817ef-477b-41e2-90b8-31bb8e4ffa51",
   "metadata": {},
   "outputs": [],
   "source": [
    "### 모델 선언\n",
    "targetModels = [\"MODEL001\", \"MODEL002\", \"MODEL003\"]\n",
    "\n",
    "recallModel = \"MODEL002\"\n",
    "\n",
    "targetModelsLen = len(targetModels)\n",
    "\n",
    "for i in range(0, targetModelsLen):\n",
    "    eachModel = targetModels[i]\n",
    "    print(f\"점검모델: {eachModel}\")\n",
    "    # recall 대상 모델인 경우 모델명 출력\n",
    "    if eachModel == recallModel:\n",
    "        print(f\"{eachModel} 은/는 recall 대상모델\")\n",
    "        continue\n",
    "    else:\n",
    "        pass"
   ]
  }
 ],
 "metadata": {
  "kernelspec": {
   "display_name": "Python 3 (ipykernel)",
   "language": "python",
   "name": "python3"
  },
  "language_info": {
   "codemirror_mode": {
    "name": "ipython",
    "version": 3
   },
   "file_extension": ".py",
   "mimetype": "text/x-python",
   "name": "python",
   "nbconvert_exporter": "python",
   "pygments_lexer": "ipython3",
   "version": "3.10.11"
  }
 },
 "nbformat": 4,
 "nbformat_minor": 5
}
