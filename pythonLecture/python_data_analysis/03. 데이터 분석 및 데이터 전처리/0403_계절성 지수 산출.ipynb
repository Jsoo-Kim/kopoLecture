{
 "cells": [
  {
   "cell_type": "code",
   "execution_count": 1,
   "id": "c44cbb3e-6401-4d89-b0b2-46b04c3e7389",
   "metadata": {},
   "outputs": [],
   "source": [
    "import pandas as pd"
   ]
  },
  {
   "cell_type": "code",
   "execution_count": 2,
   "id": "7660d163-8a97-489b-9c8c-fe8270772457",
   "metadata": {},
   "outputs": [],
   "source": [
    "selloutData = pd.read_csv(\"../dataset/kopo_channel_seasonality_new.csv\")"
   ]
  },
  {
   "cell_type": "code",
   "execution_count": 4,
   "id": "5b0392ca-d45b-421c-941d-38879a1632dd",
   "metadata": {},
   "outputs": [
    {
     "name": "stdout",
     "output_type": "stream",
     "text": [
      "REGIONID     object\n",
      "PRODUCT      object\n",
      "YEARWEEK      int64\n",
      "QTY         float64\n",
      "dtype: object\n"
     ]
    }
   ],
   "source": [
    "columnList = list(selloutData.columns)\n",
    "# print(columnList)\n",
    "print(selloutData.dtypes)"
   ]
  },
  {
   "cell_type": "code",
   "execution_count": 8,
   "id": "d42e5e59-acf7-4be7-b3c7-11971b38c55f",
   "metadata": {},
   "outputs": [
    {
     "name": "stdout",
     "output_type": "stream",
     "text": [
      "REGIONID    object\n",
      "PRODUCT     object\n",
      "YEARWEEK    object\n",
      "QTY         object\n",
      "dtype: object\n"
     ]
    }
   ],
   "source": [
    "for column in columnList:\n",
    "    if 'QTY' in selloutData[column].values:\n",
    "        selloutData[column] = selloutData[column].astype(float)\n",
    "    else:\n",
    "        selloutData[column] = selloutData[column].astype(str)\n",
    "\n",
    "print(selloutData.dtypes)"
   ]
  },
  {
   "cell_type": "markdown",
   "id": "900bc528-fe25-41a6-9dbc-810082fe1e42",
   "metadata": {},
   "source": [
    "데이터타입 통합\n",
    "QTY -> float\n",
    "그 이외 컬럼 -> 문자"
   ]
  },
  {
   "cell_type": "code",
   "execution_count": 11,
   "id": "6b4b9fed-c569-4143-9d51-4fd7b06d1dfc",
   "metadata": {},
   "outputs": [],
   "source": [
    "import pandas as pd\n",
    "selloutData = pd.read_csv(\"../dataset/kopo_channel_seasonality_new.csv\")"
   ]
  },
  {
   "cell_type": "code",
   "execution_count": 13,
   "id": "e9dab4dd-fb96-4d17-af69-2fb914b7fc5a",
   "metadata": {},
   "outputs": [
    {
     "data": {
      "text/plain": [
       "Index(['REGIONID', 'PRODUCT', 'YEARWEEK', 'QTY'], dtype='object')"
      ]
     },
     "execution_count": 13,
     "metadata": {},
     "output_type": "execute_result"
    }
   ],
   "source": [
    "selloutData.shape\n",
    "selloutData.columns"
   ]
  },
  {
   "cell_type": "code",
   "execution_count": null,
   "id": "5d25adb4-3547-4c60-a2c6-96357fd95531",
   "metadata": {},
   "outputs": [],
   "source": [
    "selloutdata.REGIONID = selloutData.REGIONID.astype(str)\n",
    "selloutdata.PRODUCT = selloutData.PRODUCT.astype(str)\n",
    "selloutdata.YEARWEEK = selloutData.YEARWEEK.astype(str)\n",
    "selloutdata.QTY = selloutData.QTY.astype(float)"
   ]
  }
 ],
 "metadata": {
  "kernelspec": {
   "display_name": "Python 3 (ipykernel)",
   "language": "python",
   "name": "python3"
  },
  "language_info": {
   "codemirror_mode": {
    "name": "ipython",
    "version": 3
   },
   "file_extension": ".py",
   "mimetype": "text/x-python",
   "name": "python",
   "nbconvert_exporter": "python",
   "pygments_lexer": "ipython3",
   "version": "3.10.11"
  }
 },
 "nbformat": 4,
 "nbformat_minor": 5
}
