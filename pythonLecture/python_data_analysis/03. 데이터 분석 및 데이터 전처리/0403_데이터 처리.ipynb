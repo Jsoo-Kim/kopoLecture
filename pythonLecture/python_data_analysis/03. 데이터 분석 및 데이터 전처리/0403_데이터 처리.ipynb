{
 "cells": [
  {
   "cell_type": "code",
   "execution_count": null,
   "id": "dec5c623-42c9-48ac-9a75-9d37ed3f94e5",
   "metadata": {},
   "outputs": [],
   "source": [
    "# from google.colab import drive\n",
    "# drive.mount(\"/content/gdrive\")"
   ]
  },
  {
   "cell_type": "markdown",
   "id": "167d843a-5a96-4b6d-badc-379eb8382096",
   "metadata": {},
   "source": [
    "## 데이터 조회를 잘하자"
   ]
  },
  {
   "cell_type": "code",
   "execution_count": 1,
   "id": "747257af-9157-4ff2-922b-b571686950c8",
   "metadata": {},
   "outputs": [],
   "source": [
    "import pandas as pd"
   ]
  },
  {
   "cell_type": "code",
   "execution_count": 2,
   "id": "16d4642e-0150-480c-a0aa-bde391c401a5",
   "metadata": {},
   "outputs": [],
   "source": [
    "csData = pd.read_csv(\"../dataset/customerdata.csv\")"
   ]
  },
  {
   "cell_type": "code",
   "execution_count": 3,
   "id": "6e8fd441-37c5-49ec-b49d-9cc8c00aeca0",
   "metadata": {},
   "outputs": [],
   "source": [
    "## emi <= 2, avg >= 2500\n",
    "\n",
    "emiCondition = [1,2]\n",
    "avgPrice = 2500"
   ]
  },
  {
   "cell_type": "code",
   "execution_count": 5,
   "id": "d554e281-d06f-42a4-8112-a8d2e3fd1316",
   "metadata": {},
   "outputs": [
    {
     "name": "stdout",
     "output_type": "stream",
     "text": [
      "CUSTID          object\n",
      "AVGPRICE       float64\n",
      "EMI              int64\n",
      "DEVICECOUNT      int64\n",
      "PRODUCTAGE     float64\n",
      "CUSTTYPE        object\n",
      "dtype: object\n"
     ]
    }
   ],
   "source": [
    "emi12Data = csData.loc[ (csData.AVGPRICE >= avgPrice) &\n",
    "            (csData.EMI.isin( emiCondition ) ) ] # 괄호로 안 묶어주면 &이 >=보다 먼저 실행됨!!\n",
    "print(csData.dtypes) # 컬럼과 비교값 데이터 타입 같아야 하므로 확인!\n",
    "# print(csData.columns) # 모든 컬럼이 나옴\n",
    "columnList = list( csData.columns ) # 이러면 리스트가 됨"
   ]
  },
  {
   "cell_type": "code",
   "execution_count": 24,
   "id": "11ff447e-3f4e-4bc4-8b51-94a57bead38b",
   "metadata": {},
   "outputs": [],
   "source": [
    "# 컬럼 타입 바꾸는 법\n",
    "# csData[\"CUSTID\"] = csData[\"CUSTID\"].astype(str)"
   ]
  },
  {
   "cell_type": "code",
   "execution_count": 6,
   "id": "344853d7-a425-4123-868b-fc909218e47d",
   "metadata": {},
   "outputs": [],
   "source": [
    "for i in range(0, len(columnList)):\n",
    "    csData[ columnList[i] ] = csData[ columnList[i] ].astype(str)"
   ]
  },
  {
   "cell_type": "code",
   "execution_count": 7,
   "id": "49207493-522c-404f-9dab-1fe7d63f13cd",
   "metadata": {},
   "outputs": [
    {
     "data": {
      "text/plain": [
       "CUSTID         object\n",
       "AVGPRICE       object\n",
       "EMI            object\n",
       "DEVICECOUNT    object\n",
       "PRODUCTAGE     object\n",
       "CUSTTYPE       object\n",
       "dtype: object"
      ]
     },
     "execution_count": 7,
     "metadata": {},
     "output_type": "execute_result"
    }
   ],
   "source": [
    "csData.dtypes"
   ]
  },
  {
   "cell_type": "code",
   "execution_count": 31,
   "id": "b23d79e1-02ee-4524-9caa-ff78cd3768f8",
   "metadata": {},
   "outputs": [],
   "source": [
    "# 원하는 컬럼 조회\n",
    "targetColumns = [\"EMI\", \"PRODUCTAGE\"]\n",
    "targetPrice = 2500\n",
    "emiCsData = csData.loc[ csData.AVGPRICE.astype(float) >= targetPrice, targetColumns ] # float이랑 숫자랑 비교가 가능한가?"
   ]
  },
  {
   "cell_type": "code",
   "execution_count": 34,
   "id": "d3613a61-ab8e-4ecc-9a32-f688c3c1645a",
   "metadata": {},
   "outputs": [
    {
     "data": {
      "text/html": [
       "<div>\n",
       "<style scoped>\n",
       "    .dataframe tbody tr th:only-of-type {\n",
       "        vertical-align: middle;\n",
       "    }\n",
       "\n",
       "    .dataframe tbody tr th {\n",
       "        vertical-align: top;\n",
       "    }\n",
       "\n",
       "    .dataframe thead th {\n",
       "        text-align: right;\n",
       "    }\n",
       "</style>\n",
       "<table border=\"1\" class=\"dataframe\">\n",
       "  <thead>\n",
       "    <tr style=\"text-align: right;\">\n",
       "      <th></th>\n",
       "      <th>EMI</th>\n",
       "      <th>PRODUCTAGE</th>\n",
       "    </tr>\n",
       "  </thead>\n",
       "  <tbody>\n",
       "    <tr>\n",
       "      <th>0</th>\n",
       "      <td>3</td>\n",
       "      <td>1.67918084803969</td>\n",
       "    </tr>\n",
       "    <tr>\n",
       "      <th>1</th>\n",
       "      <td>2</td>\n",
       "      <td>2.68202302093618</td>\n",
       "    </tr>\n",
       "    <tr>\n",
       "      <th>2</th>\n",
       "      <td>2</td>\n",
       "      <td>3.2082015713118</td>\n",
       "    </tr>\n",
       "    <tr>\n",
       "      <th>3</th>\n",
       "      <td>2</td>\n",
       "      <td>0.9</td>\n",
       "    </tr>\n",
       "    <tr>\n",
       "      <th>4</th>\n",
       "      <td>2</td>\n",
       "      <td>2.45365640323609</td>\n",
       "    </tr>\n",
       "    <tr>\n",
       "      <th>...</th>\n",
       "      <td>...</td>\n",
       "      <td>...</td>\n",
       "    </tr>\n",
       "    <tr>\n",
       "      <th>145</th>\n",
       "      <td>2</td>\n",
       "      <td>2.46367035079282</td>\n",
       "    </tr>\n",
       "    <tr>\n",
       "      <th>146</th>\n",
       "      <td>3</td>\n",
       "      <td>0.9</td>\n",
       "    </tr>\n",
       "    <tr>\n",
       "      <th>147</th>\n",
       "      <td>2</td>\n",
       "      <td>2.37130050714128</td>\n",
       "    </tr>\n",
       "    <tr>\n",
       "      <th>148</th>\n",
       "      <td>2</td>\n",
       "      <td>1.70494219968095</td>\n",
       "    </tr>\n",
       "    <tr>\n",
       "      <th>149</th>\n",
       "      <td>2</td>\n",
       "      <td>1.2</td>\n",
       "    </tr>\n",
       "  </tbody>\n",
       "</table>\n",
       "<p>150 rows × 2 columns</p>\n",
       "</div>"
      ],
      "text/plain": [
       "    EMI        PRODUCTAGE\n",
       "0     3  1.67918084803969\n",
       "1     2  2.68202302093618\n",
       "2     2   3.2082015713118\n",
       "3     2               0.9\n",
       "4     2  2.45365640323609\n",
       "..   ..               ...\n",
       "145   2  2.46367035079282\n",
       "146   3               0.9\n",
       "147   2  2.37130050714128\n",
       "148   2  1.70494219968095\n",
       "149   2               1.2\n",
       "\n",
       "[150 rows x 2 columns]"
      ]
     },
     "execution_count": 34,
     "metadata": {},
     "output_type": "execute_result"
    }
   ],
   "source": [
    "csData.loc[ : , targetColumns ]\n",
    "csData.iloc[ :, [2,4] ] # 인덱스는 가독성이 떨어지는데 유지보수 하기엔 좋음"
   ]
  },
  {
   "cell_type": "code",
   "execution_count": 37,
   "id": "ffdf7ca1-2c5e-465c-b9e9-3354d8ce1eca",
   "metadata": {},
   "outputs": [],
   "source": [
    "# 이렇게 인덱스로 개발해놓으면 컬럼 이름 바뀌어도 한 군데만 바꾸면 됨\n",
    "csDataColumns = csData.columns\n",
    "emiColumnNo = csDataColumns.get_loc(\"EMI\") # 컬럼 인덱스 찾아서 넣음\n",
    "productageColumnNo = csDataColumns.get_loc(\"PRODUCTAGE\")"
   ]
  },
  {
   "cell_type": "code",
   "execution_count": 38,
   "id": "86c13dd4-643c-4ffa-96a9-291dfc3bcd6d",
   "metadata": {},
   "outputs": [
    {
     "data": {
      "text/html": [
       "<div>\n",
       "<style scoped>\n",
       "    .dataframe tbody tr th:only-of-type {\n",
       "        vertical-align: middle;\n",
       "    }\n",
       "\n",
       "    .dataframe tbody tr th {\n",
       "        vertical-align: top;\n",
       "    }\n",
       "\n",
       "    .dataframe thead th {\n",
       "        text-align: right;\n",
       "    }\n",
       "</style>\n",
       "<table border=\"1\" class=\"dataframe\">\n",
       "  <thead>\n",
       "    <tr style=\"text-align: right;\">\n",
       "      <th></th>\n",
       "      <th>EMI</th>\n",
       "      <th>PRODUCTAGE</th>\n",
       "    </tr>\n",
       "  </thead>\n",
       "  <tbody>\n",
       "    <tr>\n",
       "      <th>0</th>\n",
       "      <td>3</td>\n",
       "      <td>1.67918084803969</td>\n",
       "    </tr>\n",
       "    <tr>\n",
       "      <th>1</th>\n",
       "      <td>2</td>\n",
       "      <td>2.68202302093618</td>\n",
       "    </tr>\n",
       "    <tr>\n",
       "      <th>2</th>\n",
       "      <td>2</td>\n",
       "      <td>3.2082015713118</td>\n",
       "    </tr>\n",
       "    <tr>\n",
       "      <th>3</th>\n",
       "      <td>2</td>\n",
       "      <td>0.9</td>\n",
       "    </tr>\n",
       "    <tr>\n",
       "      <th>4</th>\n",
       "      <td>2</td>\n",
       "      <td>2.45365640323609</td>\n",
       "    </tr>\n",
       "    <tr>\n",
       "      <th>...</th>\n",
       "      <td>...</td>\n",
       "      <td>...</td>\n",
       "    </tr>\n",
       "    <tr>\n",
       "      <th>145</th>\n",
       "      <td>2</td>\n",
       "      <td>2.46367035079282</td>\n",
       "    </tr>\n",
       "    <tr>\n",
       "      <th>146</th>\n",
       "      <td>3</td>\n",
       "      <td>0.9</td>\n",
       "    </tr>\n",
       "    <tr>\n",
       "      <th>147</th>\n",
       "      <td>2</td>\n",
       "      <td>2.37130050714128</td>\n",
       "    </tr>\n",
       "    <tr>\n",
       "      <th>148</th>\n",
       "      <td>2</td>\n",
       "      <td>1.70494219968095</td>\n",
       "    </tr>\n",
       "    <tr>\n",
       "      <th>149</th>\n",
       "      <td>2</td>\n",
       "      <td>1.2</td>\n",
       "    </tr>\n",
       "  </tbody>\n",
       "</table>\n",
       "<p>150 rows × 2 columns</p>\n",
       "</div>"
      ],
      "text/plain": [
       "    EMI        PRODUCTAGE\n",
       "0     3  1.67918084803969\n",
       "1     2  2.68202302093618\n",
       "2     2   3.2082015713118\n",
       "3     2               0.9\n",
       "4     2  2.45365640323609\n",
       "..   ..               ...\n",
       "145   2  2.46367035079282\n",
       "146   3               0.9\n",
       "147   2  2.37130050714128\n",
       "148   2  1.70494219968095\n",
       "149   2               1.2\n",
       "\n",
       "[150 rows x 2 columns]"
      ]
     },
     "execution_count": 38,
     "metadata": {},
     "output_type": "execute_result"
    }
   ],
   "source": [
    "csData.iloc[ :, [emiColumnNo, productageColumnNo] ]"
   ]
  }
 ],
 "metadata": {
  "kernelspec": {
   "display_name": "Python 3 (ipykernel)",
   "language": "python",
   "name": "python3"
  },
  "language_info": {
   "codemirror_mode": {
    "name": "ipython",
    "version": 3
   },
   "file_extension": ".py",
   "mimetype": "text/x-python",
   "name": "python",
   "nbconvert_exporter": "python",
   "pygments_lexer": "ipython3",
   "version": "3.10.11"
  }
 },
 "nbformat": 4,
 "nbformat_minor": 5
}
