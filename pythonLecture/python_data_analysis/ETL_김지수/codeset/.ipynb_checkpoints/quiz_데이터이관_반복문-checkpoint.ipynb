{
 "cells": [
  {
   "cell_type": "code",
   "execution_count": 85,
   "id": "4840aae8-07f3-4068-a792-7a16a64c7f9f",
   "metadata": {},
   "outputs": [
    {
     "name": "stdout",
     "output_type": "stream",
     "text": [
      "C:\\USERS\\SMT18\\DESKTOP\\김지수\\stdcode2024\\ETL_김지수\\codeset\n"
     ]
    },
    {
     "name": "stderr",
     "output_type": "stream",
     "text": [
      "C:\\Users\\SMT18\\AppData\\Local\\Programs\\Python\\Python310\\lib\\site-packages\\IPython\\core\\magics\\osm.py:417: UserWarning: This is now an optional IPython functionality, setting dhist requires you to install the `pickleshare` library.\n",
      "  self.shell.db['dhist'] = compress_dhist(dhist)[-100:]\n"
     ]
    }
   ],
   "source": [
    "# cd codeset"
   ]
  },
  {
   "cell_type": "code",
   "execution_count": 86,
   "id": "8d2ad28a-10b1-4e54-b903-7c8d619f4422",
   "metadata": {},
   "outputs": [
    {
     "name": "stdout",
     "output_type": "stream",
     "text": [
      "['cars.csv', 'customer.csv', 'customerdata.csv', 'customerdata.xlsx', 'customerdata_out.csv', 'customerdata_out.xlsx', 'economy.csv', 'feature_regression_example.csv', 'international-airline-passengers.csv', 'IRIS.csv', 'joindata1.csv', 'joindata2.csv', 'join_kopo_product_volume.csv', 'join_region_master.csv', 'join_region_master2.csv', 'kopo_channel_seasonality_new.csv', 'kopo_customerdata.csv', 'kopo_decision_tree_all_new.csv', 'kopo_parameter.csv', 'kopo_product_volume.csv', 'kopo_product_volume0.csv', 'kopo_product_volume2.csv', 'kopo_product_volume_out.csv', 'kopo_region_mst.csv', 'kopo_region_mst_hangul.csv', 'kopo_sales0.csv', 'kopo_sales2.csv', 'missingValue.xlsx', 'pima-indians-diabetes.csv', 'pro_actual_sales.csv', 'pro_promotion.csv', 'sample_kopo.csv', 'seasonality_data.csv', 'selloutdata_out.csv', 'shampoo.csv', 'st0001data.csv', 'st0002data.csv', 'student_middle.csv', 'student_middle_result.csv', 'student_out.csv']\n"
     ]
    }
   ],
   "source": [
    "import pandas as pd\n",
    "import os\n",
    "\n",
    "targetFolder = \"../dataset\"\n",
    "fileList = os.listdir(targetFolder)\n",
    "print(fileList)"
   ]
  },
  {
   "cell_type": "code",
   "execution_count": 88,
   "id": "9abfbe67-8b10-415c-a776-91084d143c51",
   "metadata": {},
   "outputs": [
    {
     "name": "stdout",
     "output_type": "stream",
     "text": [
      "dataset_out 폴더가 이미 존재합니다: ../dataset_out\n"
     ]
    }
   ],
   "source": [
    "targetDir = \"../dataset_out\"\n",
    "\n",
    "if os.path.exists(targetDir):\n",
    "    print(f\"dataset_out 폴더가 이미 존재합니다: {targetDir}\")\n",
    "else:\n",
    "    os.makedirs(targetDir)\n",
    "    print(f\"dataset_out 폴더가 생성되었습니다: {targetDir}\")"
   ]
  },
  {
   "cell_type": "code",
   "execution_count": 94,
   "id": "7096f342-9621-4e90-a60e-f5cfa02473e5",
   "metadata": {},
   "outputs": [],
   "source": [
    "#파일 포맷 설정\n",
    "\n",
    "from datetime import datetime\n",
    "now = datetime.now()\n",
    "filename_format = \"%Y%m%d%H%M\"\n",
    "formatted_datetime = now.strftime(filename_format)\n",
    "\n",
    "# filename = f\"data_{formatted_datetime}.csv\""
   ]
  },
  {
   "cell_type": "code",
   "execution_count": 90,
   "id": "df95413f-2d85-477d-b1cb-9c1ecbe64d0b",
   "metadata": {},
   "outputs": [],
   "source": [
    "# inData = pd.read_csv(\"../dataset/kopo_product_volume.csv\") # 추출할 파일"
   ]
  },
  {
   "cell_type": "code",
   "execution_count": 91,
   "id": "a8da5136-dab7-4315-8d13-c4f1c1e914fd",
   "metadata": {},
   "outputs": [
    {
     "data": {
      "text/html": [
       "<div>\n",
       "<style scoped>\n",
       "    .dataframe tbody tr th:only-of-type {\n",
       "        vertical-align: middle;\n",
       "    }\n",
       "\n",
       "    .dataframe tbody tr th {\n",
       "        vertical-align: top;\n",
       "    }\n",
       "\n",
       "    .dataframe thead th {\n",
       "        text-align: right;\n",
       "    }\n",
       "</style>\n",
       "<table border=\"1\" class=\"dataframe\">\n",
       "  <thead>\n",
       "    <tr style=\"text-align: right;\">\n",
       "      <th></th>\n",
       "      <th>REGIONID</th>\n",
       "      <th>PRODUCTGROUP</th>\n",
       "      <th>YEARWEEK</th>\n",
       "      <th>VOLUME</th>\n",
       "    </tr>\n",
       "  </thead>\n",
       "  <tbody>\n",
       "    <tr>\n",
       "      <th>0</th>\n",
       "      <td>A01</td>\n",
       "      <td>ST0001</td>\n",
       "      <td>201415</td>\n",
       "      <td>810144</td>\n",
       "    </tr>\n",
       "    <tr>\n",
       "      <th>1</th>\n",
       "      <td>A01</td>\n",
       "      <td>ST0002</td>\n",
       "      <td>201415</td>\n",
       "      <td>128999</td>\n",
       "    </tr>\n",
       "  </tbody>\n",
       "</table>\n",
       "</div>"
      ],
      "text/plain": [
       "  REGIONID PRODUCTGROUP  YEARWEEK  VOLUME\n",
       "0      A01       ST0001    201415  810144\n",
       "1      A01       ST0002    201415  128999"
      ]
     },
     "execution_count": 91,
     "metadata": {},
     "output_type": "execute_result"
    }
   ],
   "source": [
    "# inData.head(2)"
   ]
  },
  {
   "cell_type": "code",
   "execution_count": 98,
   "id": "05f0b022-bd79-4e46-8cb8-ae1b0d4c855a",
   "metadata": {},
   "outputs": [
    {
     "data": {
      "text/plain": [
       "'C:\\\\USERS\\\\SMT18\\\\DESKTOP\\\\김지수\\\\stdcode2024\\\\ETL_김지수\\\\codeset'"
      ]
     },
     "execution_count": 98,
     "metadata": {},
     "output_type": "execute_result"
    }
   ],
   "source": [
    "# pwd"
   ]
  },
  {
   "cell_type": "code",
   "execution_count": 93,
   "id": "e6460105-187b-434b-966b-c78188f76681",
   "metadata": {},
   "outputs": [],
   "source": [
    "# inData.to_csv(f\"../dataset_out/kopo_product_volume_{formatted_datetime}.csv\", index=False) # 파일 저장됨"
   ]
  },
  {
   "cell_type": "code",
   "execution_count": 101,
   "id": "de1ddfac-08b9-4e59-a2fe-22720c41443f",
   "metadata": {},
   "outputs": [
    {
     "name": "stdout",
     "output_type": "stream",
     "text": [
      "40\n"
     ]
    }
   ],
   "source": [
    "for file in fileList:\n",
    "    if (file[ : 12] == \"kopo_product\" and file[ -4 : ] == \".csv\"):\n",
    "        filename = f\"{file[ : -4]}_{formatted_datetime}\" # 여기에서 파일 이름 재설정\n",
    "        # print(filename)\n",
    "        inData = pd.read_csv(f\"../dataset/{file}\") # 파일 추출\n",
    "        inData.to_csv(f\"../dataset_out/{filename}_{formatted_datetime}.csv\", index=False)"
   ]
  },
  {
   "cell_type": "markdown",
   "id": "4c480ab8-77ad-4bd1-9fca-b92e9a5b211b",
   "metadata": {},
   "source": [
    "### 교수님 답안"
   ]
  },
  {
   "cell_type": "code",
   "execution_count": 102,
   "id": "2f6d10ea-4141-4766-9145-5fccd0ef357f",
   "metadata": {},
   "outputs": [
    {
     "name": "stdout",
     "output_type": "stream",
     "text": [
      "dataset_out2 폴더가 생성되었습니다: ../dataset_out2\n"
     ]
    }
   ],
   "source": [
    "# # 1. 폴더 생성\n",
    "# inFolder = \"../dataset\"\n",
    "# outFolder = \"../dataset_out2\"\n",
    "\n",
    "# if os.path.exists(outFolder):\n",
    "#     print(f\"dataset_out2 폴더가 이미 존재합니다: {outFolder}\")\n",
    "# else:\n",
    "#     os.makedirs(outFolder) # 여기서 폴더 생성\n",
    "#     print(f\"dataset_out2 폴더가 생성되었습니다: {outFolder}\")\n"
   ]
  },
  {
   "cell_type": "code",
   "execution_count": null,
   "id": "5fe674b5-c5cc-47b0-9af9-2e948d8df4dc",
   "metadata": {},
   "outputs": [],
   "source": [
    "# import pandas as pd\n",
    "\n",
    "# # 2. 데이터 불러오기\n",
    "# indata = pd.read_csv(\"../dataset/kopo_product_volume.csv\") # 폴더 경로가 포함된 파일명이 들어가야 함\n",
    "\n",
    "# # 3. 데이터 저장하기\n",
    "# indata.to_csv(\"../dataset_out2/kopo_product_volume.csv\")"
   ]
  }
 ],
 "metadata": {
  "kernelspec": {
   "display_name": "Python 3 (ipykernel)",
   "language": "python",
   "name": "python3"
  },
  "language_info": {
   "codemirror_mode": {
    "name": "ipython",
    "version": 3
   },
   "file_extension": ".py",
   "mimetype": "text/x-python",
   "name": "python",
   "nbconvert_exporter": "python",
   "pygments_lexer": "ipython3",
   "version": "3.10.11"
  }
 },
 "nbformat": 4,
 "nbformat_minor": 5
}
